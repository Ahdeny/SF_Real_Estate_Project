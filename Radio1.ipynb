{
  "nbformat": 4,
  "nbformat_minor": 0,
  "metadata": {
    "colab": {
      "name": "Radio1.ipynb",
      "version": "0.3.2",
      "provenance": [],
      "collapsed_sections": [],
      "include_colab_link": true
    },
    "kernelspec": {
      "name": "python3",
      "display_name": "Python 3"
    }
  },
  "cells": [
    {
      "cell_type": "markdown",
      "metadata": {
        "id": "view-in-github",
        "colab_type": "text"
      },
      "source": [
        "<a href=\"https://colab.research.google.com/github/JimKing100/SF_Real_Estate_Project/blob/master/Radio1.ipynb\" target=\"_parent\"><img src=\"https://colab.research.google.com/assets/colab-badge.svg\" alt=\"Open In Colab\"/></a>"
      ]
    },
    {
      "cell_type": "code",
      "metadata": {
        "id": "oXAs7_r4EqS5",
        "colab_type": "code",
        "colab": {}
      },
      "source": [
        "from bokeh.layouts import column\n",
        "from bokeh.models import CustomJS, ColumnDataSource, Slider, TextInput, RadioGroup\n",
        "from bokeh.plotting import Figure, output_file, show, curdoc\n",
        "\n",
        "def my_radio_handler(new):\n",
        "    print('Radio button option ' + str(new) + ' selected.')\n",
        "\n",
        "radio_group = RadioGroup(\n",
        "    labels=[\"Option 1\", \"Option 2\", \"Option 3\"], active=0)\n",
        "radio_group.on_click(my_radio_handler)\n",
        "\n",
        "curdoc().add_root(column(radio_group))"
      ],
      "execution_count": 0,
      "outputs": []
    }
  ]
}