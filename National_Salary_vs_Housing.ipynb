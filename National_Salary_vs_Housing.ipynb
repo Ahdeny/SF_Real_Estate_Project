{
  "nbformat": 4,
  "nbformat_minor": 0,
  "metadata": {
    "colab": {
      "name": "National_Salary_vs_Housing.ipynb",
      "version": "0.3.2",
      "provenance": [],
      "include_colab_link": true
    },
    "kernelspec": {
      "name": "python3",
      "display_name": "Python 3"
    }
  },
  "cells": [
    {
      "cell_type": "markdown",
      "metadata": {
        "id": "view-in-github",
        "colab_type": "text"
      },
      "source": [
        "<a href=\"https://colab.research.google.com/github/JimKing100/SF_Real_Estate_Project/blob/master/National_Salary_vs_Housing.ipynb\" target=\"_parent\"><img src=\"https://colab.research.google.com/assets/colab-badge.svg\" alt=\"Open In Colab\"/></a>"
      ]
    },
    {
      "cell_type": "code",
      "metadata": {
        "id": "-7ybEAa1hIrP",
        "colab_type": "code",
        "outputId": "d809db8f-3d7a-4a70-b412-c576d75a2df1",
        "colab": {
          "base_uri": "https://localhost:8080/",
          "height": 567
        }
      },
      "source": [
        "import pandas as pd\n",
        "import math\n",
        "\n",
        "# Load the tech income data\n",
        "salary_data = pd.read_csv('https://raw.githubusercontent.com/JimKing100/SF_Real_Estate_Project/master/data/RankedTechIncome.csv')\n",
        "\n",
        "# Check the data\n",
        "print(salary_data.shape)\n",
        "salary_data.head()"
      ],
      "execution_count": 175,
      "outputs": [
        {
          "output_type": "stream",
          "text": [
            "(385, 23)\n"
          ],
          "name": "stdout"
        },
        {
          "output_type": "execute_result",
          "data": {
            "text/html": [
              "<div>\n",
              "<style scoped>\n",
              "    .dataframe tbody tr th:only-of-type {\n",
              "        vertical-align: middle;\n",
              "    }\n",
              "\n",
              "    .dataframe tbody tr th {\n",
              "        vertical-align: top;\n",
              "    }\n",
              "\n",
              "    .dataframe thead th {\n",
              "        text-align: right;\n",
              "    }\n",
              "</style>\n",
              "<table border=\"1\" class=\"dataframe\">\n",
              "  <thead>\n",
              "    <tr style=\"text-align: right;\">\n",
              "      <th></th>\n",
              "      <th>PRIM_STATE</th>\n",
              "      <th>AREA</th>\n",
              "      <th>AREA_NAME</th>\n",
              "      <th>OCC_CODE</th>\n",
              "      <th>OCC_TITLE</th>\n",
              "      <th>OCC_GROUP</th>\n",
              "      <th>TOT_EMP</th>\n",
              "      <th>EMP_PRSE</th>\n",
              "      <th>JOBS_1000</th>\n",
              "      <th>LOC QUOTIENT</th>\n",
              "      <th>H_MEAN</th>\n",
              "      <th>A_MEAN</th>\n",
              "      <th>MEAN_PRSE</th>\n",
              "      <th>H_PCT10</th>\n",
              "      <th>H_PCT25</th>\n",
              "      <th>H_MEDIAN</th>\n",
              "      <th>H_PCT75</th>\n",
              "      <th>H_PCT90</th>\n",
              "      <th>A_PCT10</th>\n",
              "      <th>A_PCT25</th>\n",
              "      <th>A_MEDIAN</th>\n",
              "      <th>A_PCT75</th>\n",
              "      <th>A_PCT90</th>\n",
              "    </tr>\n",
              "  </thead>\n",
              "  <tbody>\n",
              "    <tr>\n",
              "      <th>0</th>\n",
              "      <td>CA</td>\n",
              "      <td>41940</td>\n",
              "      <td>San Jose-Sunnyvale-Santa Clara, CA</td>\n",
              "      <td>15-0000</td>\n",
              "      <td>Computer and Mathematical Occupations</td>\n",
              "      <td>major</td>\n",
              "      <td>141,030</td>\n",
              "      <td>2.3</td>\n",
              "      <td>126.011</td>\n",
              "      <td>4.16</td>\n",
              "      <td>61.08</td>\n",
              "      <td>127040</td>\n",
              "      <td>1.3</td>\n",
              "      <td>32.32</td>\n",
              "      <td>44.19</td>\n",
              "      <td>59.36</td>\n",
              "      <td>75.94</td>\n",
              "      <td>92.45</td>\n",
              "      <td>67,220</td>\n",
              "      <td>91,910</td>\n",
              "      <td>123,470</td>\n",
              "      <td>157,940</td>\n",
              "      <td>192,300</td>\n",
              "    </tr>\n",
              "    <tr>\n",
              "      <th>1</th>\n",
              "      <td>CA</td>\n",
              "      <td>41860</td>\n",
              "      <td>San Francisco-Oakland-Hayward, CA</td>\n",
              "      <td>15-0000</td>\n",
              "      <td>Computer and Mathematical Occupations</td>\n",
              "      <td>major</td>\n",
              "      <td>146,420</td>\n",
              "      <td>2.7</td>\n",
              "      <td>60.525</td>\n",
              "      <td>2</td>\n",
              "      <td>58.04</td>\n",
              "      <td>120730</td>\n",
              "      <td>1.9</td>\n",
              "      <td>31.04</td>\n",
              "      <td>41.69</td>\n",
              "      <td>56.18</td>\n",
              "      <td>71.77</td>\n",
              "      <td>86.49</td>\n",
              "      <td>64,570</td>\n",
              "      <td>86,710</td>\n",
              "      <td>116,860</td>\n",
              "      <td>149,270</td>\n",
              "      <td>179,900</td>\n",
              "    </tr>\n",
              "    <tr>\n",
              "      <th>2</th>\n",
              "      <td>WA</td>\n",
              "      <td>42660</td>\n",
              "      <td>Seattle-Tacoma-Bellevue, WA</td>\n",
              "      <td>15-0000</td>\n",
              "      <td>Computer and Mathematical Occupations</td>\n",
              "      <td>major</td>\n",
              "      <td>139,440</td>\n",
              "      <td>9</td>\n",
              "      <td>70.269</td>\n",
              "      <td>2.32</td>\n",
              "      <td>54.69</td>\n",
              "      <td>113750</td>\n",
              "      <td>6.0</td>\n",
              "      <td>27.98</td>\n",
              "      <td>39.30</td>\n",
              "      <td>54.15</td>\n",
              "      <td>68.71</td>\n",
              "      <td>80.83</td>\n",
              "      <td>58,200</td>\n",
              "      <td>81,730</td>\n",
              "      <td>112,640</td>\n",
              "      <td>142,920</td>\n",
              "      <td>168,140</td>\n",
              "    </tr>\n",
              "    <tr>\n",
              "      <th>3</th>\n",
              "      <td>DC</td>\n",
              "      <td>47900</td>\n",
              "      <td>Washington-Arlington-Alexandria, DC-VA-MD-WV</td>\n",
              "      <td>15-0000</td>\n",
              "      <td>Computer and Mathematical Occupations</td>\n",
              "      <td>major</td>\n",
              "      <td>232,290</td>\n",
              "      <td>1.7</td>\n",
              "      <td>74.093</td>\n",
              "      <td>2.45</td>\n",
              "      <td>51.81</td>\n",
              "      <td>107760</td>\n",
              "      <td>0.7</td>\n",
              "      <td>28.20</td>\n",
              "      <td>37.27</td>\n",
              "      <td>50.96</td>\n",
              "      <td>64.66</td>\n",
              "      <td>77.77</td>\n",
              "      <td>58,660</td>\n",
              "      <td>77,520</td>\n",
              "      <td>106,000</td>\n",
              "      <td>134,500</td>\n",
              "      <td>161,750</td>\n",
              "    </tr>\n",
              "    <tr>\n",
              "      <th>4</th>\n",
              "      <td>NH</td>\n",
              "      <td>76900</td>\n",
              "      <td>Portsmouth, NH-ME</td>\n",
              "      <td>15-0000</td>\n",
              "      <td>Computer and Mathematical Occupations</td>\n",
              "      <td>major</td>\n",
              "      <td>4,050</td>\n",
              "      <td>3.6</td>\n",
              "      <td>42.949</td>\n",
              "      <td>1.42</td>\n",
              "      <td>50.15</td>\n",
              "      <td>104310</td>\n",
              "      <td>4.4</td>\n",
              "      <td>26.89</td>\n",
              "      <td>35.39</td>\n",
              "      <td>47.64</td>\n",
              "      <td>60.89</td>\n",
              "      <td>74.60</td>\n",
              "      <td>55,930</td>\n",
              "      <td>73,620</td>\n",
              "      <td>99,090</td>\n",
              "      <td>126,640</td>\n",
              "      <td>155,160</td>\n",
              "    </tr>\n",
              "  </tbody>\n",
              "</table>\n",
              "</div>"
            ],
            "text/plain": [
              "  PRIM_STATE   AREA  ...  A_PCT75  A_PCT90\n",
              "0         CA  41940  ...  157,940  192,300\n",
              "1         CA  41860  ...  149,270  179,900\n",
              "2         WA  42660  ...  142,920  168,140\n",
              "3         DC  47900  ...  134,500  161,750\n",
              "4         NH  76900  ...  126,640  155,160\n",
              "\n",
              "[5 rows x 23 columns]"
            ]
          },
          "metadata": {
            "tags": []
          },
          "execution_count": 175
        }
      ]
    },
    {
      "cell_type": "code",
      "metadata": {
        "id": "L862DSZ7iKJq",
        "colab_type": "code",
        "outputId": "768e5504-5076-4743-dda1-a6caa02740b7",
        "colab": {
          "base_uri": "https://localhost:8080/",
          "height": 221
        }
      },
      "source": [
        "# Load the tech income data\n",
        "initial_data = pd.read_csv('https://raw.githubusercontent.com/JimKing100/SF_Real_Estate_Project/master/data/2018MedianHomes-Final.csv')\n",
        "\n",
        "housing_data = initial_data.rename(columns={'CBSA Code': 'AREA'})\n",
        "\n",
        "# Check the data\n",
        "print(housing_data.shape)\n",
        "housing_data.head()"
      ],
      "execution_count": 176,
      "outputs": [
        {
          "output_type": "stream",
          "text": [
            "(180, 5)\n"
          ],
          "name": "stdout"
        },
        {
          "output_type": "execute_result",
          "data": {
            "text/html": [
              "<div>\n",
              "<style scoped>\n",
              "    .dataframe tbody tr th:only-of-type {\n",
              "        vertical-align: middle;\n",
              "    }\n",
              "\n",
              "    .dataframe tbody tr th {\n",
              "        vertical-align: top;\n",
              "    }\n",
              "\n",
              "    .dataframe thead th {\n",
              "        text-align: right;\n",
              "    }\n",
              "</style>\n",
              "<table border=\"1\" class=\"dataframe\">\n",
              "  <thead>\n",
              "    <tr style=\"text-align: right;\">\n",
              "      <th></th>\n",
              "      <th>AREA</th>\n",
              "      <th>Metro Area</th>\n",
              "      <th>2016</th>\n",
              "      <th>2017</th>\n",
              "      <th>2018</th>\n",
              "    </tr>\n",
              "  </thead>\n",
              "  <tbody>\n",
              "    <tr>\n",
              "      <th>0</th>\n",
              "      <td>19500</td>\n",
              "      <td>Decatur, IL</td>\n",
              "      <td>93.3</td>\n",
              "      <td>94.4</td>\n",
              "      <td>90.8</td>\n",
              "    </tr>\n",
              "    <tr>\n",
              "      <th>1</th>\n",
              "      <td>49660</td>\n",
              "      <td>Youngstown-Warren-Boardman, OH-PA</td>\n",
              "      <td>84.4</td>\n",
              "      <td>86.1</td>\n",
              "      <td>94.0</td>\n",
              "    </tr>\n",
              "    <tr>\n",
              "      <th>2</th>\n",
              "      <td>19060</td>\n",
              "      <td>Cumberland, MD-WV</td>\n",
              "      <td>88.8</td>\n",
              "      <td>90.7</td>\n",
              "      <td>100.5</td>\n",
              "    </tr>\n",
              "    <tr>\n",
              "      <th>3</th>\n",
              "      <td>21300</td>\n",
              "      <td>Elmira, NY</td>\n",
              "      <td>116.1</td>\n",
              "      <td>110.4</td>\n",
              "      <td>111.2</td>\n",
              "    </tr>\n",
              "    <tr>\n",
              "      <th>4</th>\n",
              "      <td>21500</td>\n",
              "      <td>Erie, PA</td>\n",
              "      <td>114.9</td>\n",
              "      <td>115.7</td>\n",
              "      <td>118.7</td>\n",
              "    </tr>\n",
              "  </tbody>\n",
              "</table>\n",
              "</div>"
            ],
            "text/plain": [
              "    AREA                         Metro Area   2016   2017   2018\n",
              "0  19500                        Decatur, IL   93.3   94.4   90.8\n",
              "1  49660  Youngstown-Warren-Boardman, OH-PA   84.4   86.1   94.0\n",
              "2  19060                  Cumberland, MD-WV   88.8   90.7  100.5\n",
              "3  21300                         Elmira, NY  116.1  110.4  111.2\n",
              "4  21500                           Erie, PA  114.9  115.7  118.7"
            ]
          },
          "metadata": {
            "tags": []
          },
          "execution_count": 176
        }
      ]
    },
    {
      "cell_type": "code",
      "metadata": {
        "id": "Iw07on6IkqT2",
        "colab_type": "code",
        "outputId": "3e3c65d9-329a-4814-95d1-f354db541a93",
        "colab": {
          "base_uri": "https://localhost:8080/",
          "height": 550
        }
      },
      "source": [
        "merged_data = pd.merge(salary_data,\n",
        "                       housing_data,\n",
        "                       on='AREA')\n",
        "merged_data.head()"
      ],
      "execution_count": 177,
      "outputs": [
        {
          "output_type": "execute_result",
          "data": {
            "text/html": [
              "<div>\n",
              "<style scoped>\n",
              "    .dataframe tbody tr th:only-of-type {\n",
              "        vertical-align: middle;\n",
              "    }\n",
              "\n",
              "    .dataframe tbody tr th {\n",
              "        vertical-align: top;\n",
              "    }\n",
              "\n",
              "    .dataframe thead th {\n",
              "        text-align: right;\n",
              "    }\n",
              "</style>\n",
              "<table border=\"1\" class=\"dataframe\">\n",
              "  <thead>\n",
              "    <tr style=\"text-align: right;\">\n",
              "      <th></th>\n",
              "      <th>PRIM_STATE</th>\n",
              "      <th>AREA</th>\n",
              "      <th>AREA_NAME</th>\n",
              "      <th>OCC_CODE</th>\n",
              "      <th>OCC_TITLE</th>\n",
              "      <th>OCC_GROUP</th>\n",
              "      <th>TOT_EMP</th>\n",
              "      <th>EMP_PRSE</th>\n",
              "      <th>JOBS_1000</th>\n",
              "      <th>LOC QUOTIENT</th>\n",
              "      <th>H_MEAN</th>\n",
              "      <th>A_MEAN</th>\n",
              "      <th>MEAN_PRSE</th>\n",
              "      <th>H_PCT10</th>\n",
              "      <th>H_PCT25</th>\n",
              "      <th>H_MEDIAN</th>\n",
              "      <th>H_PCT75</th>\n",
              "      <th>H_PCT90</th>\n",
              "      <th>A_PCT10</th>\n",
              "      <th>A_PCT25</th>\n",
              "      <th>A_MEDIAN</th>\n",
              "      <th>A_PCT75</th>\n",
              "      <th>A_PCT90</th>\n",
              "      <th>Metro Area</th>\n",
              "      <th>2016</th>\n",
              "      <th>2017</th>\n",
              "      <th>2018</th>\n",
              "    </tr>\n",
              "  </thead>\n",
              "  <tbody>\n",
              "    <tr>\n",
              "      <th>0</th>\n",
              "      <td>CA</td>\n",
              "      <td>41940</td>\n",
              "      <td>San Jose-Sunnyvale-Santa Clara, CA</td>\n",
              "      <td>15-0000</td>\n",
              "      <td>Computer and Mathematical Occupations</td>\n",
              "      <td>major</td>\n",
              "      <td>141,030</td>\n",
              "      <td>2.3</td>\n",
              "      <td>126.011</td>\n",
              "      <td>4.16</td>\n",
              "      <td>61.08</td>\n",
              "      <td>127040</td>\n",
              "      <td>1.3</td>\n",
              "      <td>32.32</td>\n",
              "      <td>44.19</td>\n",
              "      <td>59.36</td>\n",
              "      <td>75.94</td>\n",
              "      <td>92.45</td>\n",
              "      <td>67,220</td>\n",
              "      <td>91,910</td>\n",
              "      <td>123,470</td>\n",
              "      <td>157,940</td>\n",
              "      <td>192,300</td>\n",
              "      <td>San Jose-Sunnyvale-Santa Clara, CA</td>\n",
              "      <td>1020.5</td>\n",
              "      <td>1180.0</td>\n",
              "      <td>1340.0</td>\n",
              "    </tr>\n",
              "    <tr>\n",
              "      <th>1</th>\n",
              "      <td>CA</td>\n",
              "      <td>41860</td>\n",
              "      <td>San Francisco-Oakland-Hayward, CA</td>\n",
              "      <td>15-0000</td>\n",
              "      <td>Computer and Mathematical Occupations</td>\n",
              "      <td>major</td>\n",
              "      <td>146,420</td>\n",
              "      <td>2.7</td>\n",
              "      <td>60.525</td>\n",
              "      <td>2</td>\n",
              "      <td>58.04</td>\n",
              "      <td>120730</td>\n",
              "      <td>1.9</td>\n",
              "      <td>31.04</td>\n",
              "      <td>41.69</td>\n",
              "      <td>56.18</td>\n",
              "      <td>71.77</td>\n",
              "      <td>86.49</td>\n",
              "      <td>64,570</td>\n",
              "      <td>86,710</td>\n",
              "      <td>116,860</td>\n",
              "      <td>149,270</td>\n",
              "      <td>179,900</td>\n",
              "      <td>San Francisco-Oakland-Hayward, CA</td>\n",
              "      <td>828.0</td>\n",
              "      <td>900.0</td>\n",
              "      <td>987.5</td>\n",
              "    </tr>\n",
              "    <tr>\n",
              "      <th>2</th>\n",
              "      <td>WA</td>\n",
              "      <td>42660</td>\n",
              "      <td>Seattle-Tacoma-Bellevue, WA</td>\n",
              "      <td>15-0000</td>\n",
              "      <td>Computer and Mathematical Occupations</td>\n",
              "      <td>major</td>\n",
              "      <td>139,440</td>\n",
              "      <td>9</td>\n",
              "      <td>70.269</td>\n",
              "      <td>2.32</td>\n",
              "      <td>54.69</td>\n",
              "      <td>113750</td>\n",
              "      <td>6.0</td>\n",
              "      <td>27.98</td>\n",
              "      <td>39.30</td>\n",
              "      <td>54.15</td>\n",
              "      <td>68.71</td>\n",
              "      <td>80.83</td>\n",
              "      <td>58,200</td>\n",
              "      <td>81,730</td>\n",
              "      <td>112,640</td>\n",
              "      <td>142,920</td>\n",
              "      <td>168,140</td>\n",
              "      <td>Seattle-Tacoma-Bellevue, WA</td>\n",
              "      <td>414.5</td>\n",
              "      <td>465.8</td>\n",
              "      <td>501.4</td>\n",
              "    </tr>\n",
              "    <tr>\n",
              "      <th>3</th>\n",
              "      <td>DC</td>\n",
              "      <td>47900</td>\n",
              "      <td>Washington-Arlington-Alexandria, DC-VA-MD-WV</td>\n",
              "      <td>15-0000</td>\n",
              "      <td>Computer and Mathematical Occupations</td>\n",
              "      <td>major</td>\n",
              "      <td>232,290</td>\n",
              "      <td>1.7</td>\n",
              "      <td>74.093</td>\n",
              "      <td>2.45</td>\n",
              "      <td>51.81</td>\n",
              "      <td>107760</td>\n",
              "      <td>0.7</td>\n",
              "      <td>28.20</td>\n",
              "      <td>37.27</td>\n",
              "      <td>50.96</td>\n",
              "      <td>64.66</td>\n",
              "      <td>77.77</td>\n",
              "      <td>58,660</td>\n",
              "      <td>77,520</td>\n",
              "      <td>106,000</td>\n",
              "      <td>134,500</td>\n",
              "      <td>161,750</td>\n",
              "      <td>Washington-Arlington-Alexandria, DC-VA-MD-WV</td>\n",
              "      <td>390.6</td>\n",
              "      <td>406.7</td>\n",
              "      <td>424.0</td>\n",
              "    </tr>\n",
              "    <tr>\n",
              "      <th>4</th>\n",
              "      <td>NY</td>\n",
              "      <td>35620</td>\n",
              "      <td>New York-Newark-Jersey City, NY-NJ-PA</td>\n",
              "      <td>15-0000</td>\n",
              "      <td>Computer and Mathematical Occupations</td>\n",
              "      <td>major</td>\n",
              "      <td>305,470</td>\n",
              "      <td>1.4</td>\n",
              "      <td>32.16</td>\n",
              "      <td>1.06</td>\n",
              "      <td>49.98</td>\n",
              "      <td>103960</td>\n",
              "      <td>0.8</td>\n",
              "      <td>24.89</td>\n",
              "      <td>33.95</td>\n",
              "      <td>47.15</td>\n",
              "      <td>63.10</td>\n",
              "      <td>78.90</td>\n",
              "      <td>51,760</td>\n",
              "      <td>70,610</td>\n",
              "      <td>98,070</td>\n",
              "      <td>131,260</td>\n",
              "      <td>164,110</td>\n",
              "      <td>New York-Newark-Jersey City, NY-NJ-PA</td>\n",
              "      <td>388.5</td>\n",
              "      <td>404.3</td>\n",
              "      <td>410.0</td>\n",
              "    </tr>\n",
              "  </tbody>\n",
              "</table>\n",
              "</div>"
            ],
            "text/plain": [
              "  PRIM_STATE   AREA  ...    2017    2018\n",
              "0         CA  41940  ...  1180.0  1340.0\n",
              "1         CA  41860  ...   900.0   987.5\n",
              "2         WA  42660  ...   465.8   501.4\n",
              "3         DC  47900  ...   406.7   424.0\n",
              "4         NY  35620  ...   404.3   410.0\n",
              "\n",
              "[5 rows x 27 columns]"
            ]
          },
          "metadata": {
            "tags": []
          },
          "execution_count": 177
        }
      ]
    },
    {
      "cell_type": "code",
      "metadata": {
        "id": "S1baGygOqOaA",
        "colab_type": "code",
        "outputId": "78479603-e4ef-4efb-c6ae-cbb2db9b293c",
        "colab": {
          "base_uri": "https://localhost:8080/",
          "height": 204
        }
      },
      "source": [
        "temp_df = pd.DataFrame(merged_data, columns = ['AREA' , 'Metro Area', '2018' , 'A_MEAN'])\n",
        "temp_df.head()"
      ],
      "execution_count": 178,
      "outputs": [
        {
          "output_type": "execute_result",
          "data": {
            "text/html": [
              "<div>\n",
              "<style scoped>\n",
              "    .dataframe tbody tr th:only-of-type {\n",
              "        vertical-align: middle;\n",
              "    }\n",
              "\n",
              "    .dataframe tbody tr th {\n",
              "        vertical-align: top;\n",
              "    }\n",
              "\n",
              "    .dataframe thead th {\n",
              "        text-align: right;\n",
              "    }\n",
              "</style>\n",
              "<table border=\"1\" class=\"dataframe\">\n",
              "  <thead>\n",
              "    <tr style=\"text-align: right;\">\n",
              "      <th></th>\n",
              "      <th>AREA</th>\n",
              "      <th>Metro Area</th>\n",
              "      <th>2018</th>\n",
              "      <th>A_MEAN</th>\n",
              "    </tr>\n",
              "  </thead>\n",
              "  <tbody>\n",
              "    <tr>\n",
              "      <th>0</th>\n",
              "      <td>41940</td>\n",
              "      <td>San Jose-Sunnyvale-Santa Clara, CA</td>\n",
              "      <td>1340.0</td>\n",
              "      <td>127040</td>\n",
              "    </tr>\n",
              "    <tr>\n",
              "      <th>1</th>\n",
              "      <td>41860</td>\n",
              "      <td>San Francisco-Oakland-Hayward, CA</td>\n",
              "      <td>987.5</td>\n",
              "      <td>120730</td>\n",
              "    </tr>\n",
              "    <tr>\n",
              "      <th>2</th>\n",
              "      <td>42660</td>\n",
              "      <td>Seattle-Tacoma-Bellevue, WA</td>\n",
              "      <td>501.4</td>\n",
              "      <td>113750</td>\n",
              "    </tr>\n",
              "    <tr>\n",
              "      <th>3</th>\n",
              "      <td>47900</td>\n",
              "      <td>Washington-Arlington-Alexandria, DC-VA-MD-WV</td>\n",
              "      <td>424.0</td>\n",
              "      <td>107760</td>\n",
              "    </tr>\n",
              "    <tr>\n",
              "      <th>4</th>\n",
              "      <td>35620</td>\n",
              "      <td>New York-Newark-Jersey City, NY-NJ-PA</td>\n",
              "      <td>410.0</td>\n",
              "      <td>103960</td>\n",
              "    </tr>\n",
              "  </tbody>\n",
              "</table>\n",
              "</div>"
            ],
            "text/plain": [
              "    AREA                                    Metro Area    2018  A_MEAN\n",
              "0  41940            San Jose-Sunnyvale-Santa Clara, CA  1340.0  127040\n",
              "1  41860             San Francisco-Oakland-Hayward, CA   987.5  120730\n",
              "2  42660                   Seattle-Tacoma-Bellevue, WA   501.4  113750\n",
              "3  47900  Washington-Arlington-Alexandria, DC-VA-MD-WV   424.0  107760\n",
              "4  35620         New York-Newark-Jersey City, NY-NJ-PA   410.0  103960"
            ]
          },
          "metadata": {
            "tags": []
          },
          "execution_count": 178
        }
      ]
    },
    {
      "cell_type": "code",
      "metadata": {
        "id": "CdGDBXPnrw0D",
        "colab_type": "code",
        "outputId": "1643095b-fb6d-468d-a151-6270159e35a5",
        "colab": {
          "base_uri": "https://localhost:8080/",
          "height": 204
        }
      },
      "source": [
        "final_df = temp_df.rename(columns={'AREA': 'cbsa_code', 'Metro Area': 'metro_area',\n",
        "                                   '2018': 'median_home_price', 'A_MEAN': 'tech_salary'})\n",
        "final_df.head()"
      ],
      "execution_count": 179,
      "outputs": [
        {
          "output_type": "execute_result",
          "data": {
            "text/html": [
              "<div>\n",
              "<style scoped>\n",
              "    .dataframe tbody tr th:only-of-type {\n",
              "        vertical-align: middle;\n",
              "    }\n",
              "\n",
              "    .dataframe tbody tr th {\n",
              "        vertical-align: top;\n",
              "    }\n",
              "\n",
              "    .dataframe thead th {\n",
              "        text-align: right;\n",
              "    }\n",
              "</style>\n",
              "<table border=\"1\" class=\"dataframe\">\n",
              "  <thead>\n",
              "    <tr style=\"text-align: right;\">\n",
              "      <th></th>\n",
              "      <th>cbsa_code</th>\n",
              "      <th>metro_area</th>\n",
              "      <th>median_home_price</th>\n",
              "      <th>tech_salary</th>\n",
              "    </tr>\n",
              "  </thead>\n",
              "  <tbody>\n",
              "    <tr>\n",
              "      <th>0</th>\n",
              "      <td>41940</td>\n",
              "      <td>San Jose-Sunnyvale-Santa Clara, CA</td>\n",
              "      <td>1340.0</td>\n",
              "      <td>127040</td>\n",
              "    </tr>\n",
              "    <tr>\n",
              "      <th>1</th>\n",
              "      <td>41860</td>\n",
              "      <td>San Francisco-Oakland-Hayward, CA</td>\n",
              "      <td>987.5</td>\n",
              "      <td>120730</td>\n",
              "    </tr>\n",
              "    <tr>\n",
              "      <th>2</th>\n",
              "      <td>42660</td>\n",
              "      <td>Seattle-Tacoma-Bellevue, WA</td>\n",
              "      <td>501.4</td>\n",
              "      <td>113750</td>\n",
              "    </tr>\n",
              "    <tr>\n",
              "      <th>3</th>\n",
              "      <td>47900</td>\n",
              "      <td>Washington-Arlington-Alexandria, DC-VA-MD-WV</td>\n",
              "      <td>424.0</td>\n",
              "      <td>107760</td>\n",
              "    </tr>\n",
              "    <tr>\n",
              "      <th>4</th>\n",
              "      <td>35620</td>\n",
              "      <td>New York-Newark-Jersey City, NY-NJ-PA</td>\n",
              "      <td>410.0</td>\n",
              "      <td>103960</td>\n",
              "    </tr>\n",
              "  </tbody>\n",
              "</table>\n",
              "</div>"
            ],
            "text/plain": [
              "   cbsa_code  ... tech_salary\n",
              "0      41940  ...      127040\n",
              "1      41860  ...      120730\n",
              "2      42660  ...      113750\n",
              "3      47900  ...      107760\n",
              "4      35620  ...      103960\n",
              "\n",
              "[5 rows x 4 columns]"
            ]
          },
          "metadata": {
            "tags": []
          },
          "execution_count": 179
        }
      ]
    },
    {
      "cell_type": "code",
      "metadata": {
        "id": "6b0fsv0OuWDa",
        "colab_type": "code",
        "outputId": "3b074866-ecde-489d-a0c9-7bb6ea14cbd5",
        "colab": {
          "base_uri": "https://localhost:8080/",
          "height": 204
        }
      },
      "source": [
        "final_df.loc[:,'median_home_price'] *= 1000\n",
        "final_df = final_df.astype({'median_home_price': 'int'})\n",
        "final_df.head()"
      ],
      "execution_count": 180,
      "outputs": [
        {
          "output_type": "execute_result",
          "data": {
            "text/html": [
              "<div>\n",
              "<style scoped>\n",
              "    .dataframe tbody tr th:only-of-type {\n",
              "        vertical-align: middle;\n",
              "    }\n",
              "\n",
              "    .dataframe tbody tr th {\n",
              "        vertical-align: top;\n",
              "    }\n",
              "\n",
              "    .dataframe thead th {\n",
              "        text-align: right;\n",
              "    }\n",
              "</style>\n",
              "<table border=\"1\" class=\"dataframe\">\n",
              "  <thead>\n",
              "    <tr style=\"text-align: right;\">\n",
              "      <th></th>\n",
              "      <th>cbsa_code</th>\n",
              "      <th>metro_area</th>\n",
              "      <th>median_home_price</th>\n",
              "      <th>tech_salary</th>\n",
              "    </tr>\n",
              "  </thead>\n",
              "  <tbody>\n",
              "    <tr>\n",
              "      <th>0</th>\n",
              "      <td>41940</td>\n",
              "      <td>San Jose-Sunnyvale-Santa Clara, CA</td>\n",
              "      <td>1340000</td>\n",
              "      <td>127040</td>\n",
              "    </tr>\n",
              "    <tr>\n",
              "      <th>1</th>\n",
              "      <td>41860</td>\n",
              "      <td>San Francisco-Oakland-Hayward, CA</td>\n",
              "      <td>987500</td>\n",
              "      <td>120730</td>\n",
              "    </tr>\n",
              "    <tr>\n",
              "      <th>2</th>\n",
              "      <td>42660</td>\n",
              "      <td>Seattle-Tacoma-Bellevue, WA</td>\n",
              "      <td>501400</td>\n",
              "      <td>113750</td>\n",
              "    </tr>\n",
              "    <tr>\n",
              "      <th>3</th>\n",
              "      <td>47900</td>\n",
              "      <td>Washington-Arlington-Alexandria, DC-VA-MD-WV</td>\n",
              "      <td>424000</td>\n",
              "      <td>107760</td>\n",
              "    </tr>\n",
              "    <tr>\n",
              "      <th>4</th>\n",
              "      <td>35620</td>\n",
              "      <td>New York-Newark-Jersey City, NY-NJ-PA</td>\n",
              "      <td>410000</td>\n",
              "      <td>103960</td>\n",
              "    </tr>\n",
              "  </tbody>\n",
              "</table>\n",
              "</div>"
            ],
            "text/plain": [
              "   cbsa_code  ... tech_salary\n",
              "0      41940  ...      127040\n",
              "1      41860  ...      120730\n",
              "2      42660  ...      113750\n",
              "3      47900  ...      107760\n",
              "4      35620  ...      103960\n",
              "\n",
              "[5 rows x 4 columns]"
            ]
          },
          "metadata": {
            "tags": []
          },
          "execution_count": 180
        }
      ]
    },
    {
      "cell_type": "code",
      "metadata": {
        "id": "jgZ3QS7gviqJ",
        "colab_type": "code",
        "outputId": "49563add-2b9f-4626-b5ca-7791c2be8924",
        "colab": {
          "base_uri": "https://localhost:8080/",
          "height": 669
        }
      },
      "source": [
        "# Function to calculate the monthly housing payment (PITI)\n",
        "def minimum_income(median_price):\n",
        "    int_rate = .04\n",
        "    term = 30\n",
        "    down_pmt = .20\n",
        "    principal_pmt = median_price * (1 - down_pmt)\n",
        "    \n",
        "    # Calculate insurance and taxes\n",
        "    tax_pmt = (median_price * .01) / 12\n",
        "    insurance_pmt = (median_price * .0038) / 12\n",
        "    \n",
        "    # monthly rate from annual percentage rate\n",
        "    interest_rate = int_rate/(100 * 12)\n",
        "    \n",
        "    # total number of payments\n",
        "    payment_num = term * 12\n",
        "    \n",
        "    # calculate monthly mortgage payment\n",
        "    mortgage_pmt = principal_pmt * (interest_rate * (math.pow((1 + interest_rate), (payment_num))) / \n",
        "                               (math.pow((1 + interest_rate), (payment_num)) - 1))\n",
        "    payment = mortgage_pmt + tax_pmt + insurance_pmt\n",
        "    min_income = (payment / .30) * 12\n",
        "    \n",
        "    return min_income\n",
        "\n",
        "final_df['min_income'] = final_df.apply(lambda x: minimum_income(x['median_home_price']), axis=1)\n",
        "final_df = final_df.astype({'min_income': 'int'})\n",
        "final_df.head(20)"
      ],
      "execution_count": 181,
      "outputs": [
        {
          "output_type": "execute_result",
          "data": {
            "text/html": [
              "<div>\n",
              "<style scoped>\n",
              "    .dataframe tbody tr th:only-of-type {\n",
              "        vertical-align: middle;\n",
              "    }\n",
              "\n",
              "    .dataframe tbody tr th {\n",
              "        vertical-align: top;\n",
              "    }\n",
              "\n",
              "    .dataframe thead th {\n",
              "        text-align: right;\n",
              "    }\n",
              "</style>\n",
              "<table border=\"1\" class=\"dataframe\">\n",
              "  <thead>\n",
              "    <tr style=\"text-align: right;\">\n",
              "      <th></th>\n",
              "      <th>cbsa_code</th>\n",
              "      <th>metro_area</th>\n",
              "      <th>median_home_price</th>\n",
              "      <th>tech_salary</th>\n",
              "      <th>min_income</th>\n",
              "    </tr>\n",
              "  </thead>\n",
              "  <tbody>\n",
              "    <tr>\n",
              "      <th>0</th>\n",
              "      <td>41940</td>\n",
              "      <td>San Jose-Sunnyvale-Santa Clara, CA</td>\n",
              "      <td>1340000</td>\n",
              "      <td>127040</td>\n",
              "      <td>181469</td>\n",
              "    </tr>\n",
              "    <tr>\n",
              "      <th>1</th>\n",
              "      <td>41860</td>\n",
              "      <td>San Francisco-Oakland-Hayward, CA</td>\n",
              "      <td>987500</td>\n",
              "      <td>120730</td>\n",
              "      <td>133731</td>\n",
              "    </tr>\n",
              "    <tr>\n",
              "      <th>2</th>\n",
              "      <td>42660</td>\n",
              "      <td>Seattle-Tacoma-Bellevue, WA</td>\n",
              "      <td>501400</td>\n",
              "      <td>113750</td>\n",
              "      <td>67901</td>\n",
              "    </tr>\n",
              "    <tr>\n",
              "      <th>3</th>\n",
              "      <td>47900</td>\n",
              "      <td>Washington-Arlington-Alexandria, DC-VA-MD-WV</td>\n",
              "      <td>424000</td>\n",
              "      <td>107760</td>\n",
              "      <td>57420</td>\n",
              "    </tr>\n",
              "    <tr>\n",
              "      <th>4</th>\n",
              "      <td>35620</td>\n",
              "      <td>New York-Newark-Jersey City, NY-NJ-PA</td>\n",
              "      <td>410000</td>\n",
              "      <td>103960</td>\n",
              "      <td>55524</td>\n",
              "    </tr>\n",
              "    <tr>\n",
              "      <th>5</th>\n",
              "      <td>12580</td>\n",
              "      <td>Baltimore-Columbia-Towson, MD</td>\n",
              "      <td>285600</td>\n",
              "      <td>101510</td>\n",
              "      <td>38677</td>\n",
              "    </tr>\n",
              "    <tr>\n",
              "      <th>6</th>\n",
              "      <td>14500</td>\n",
              "      <td>Boulder, CO</td>\n",
              "      <td>607400</td>\n",
              "      <td>101220</td>\n",
              "      <td>82257</td>\n",
              "    </tr>\n",
              "    <tr>\n",
              "      <th>7</th>\n",
              "      <td>41740</td>\n",
              "      <td>San Diego-Carlsbad, CA</td>\n",
              "      <td>634000</td>\n",
              "      <td>99890</td>\n",
              "      <td>85859</td>\n",
              "    </tr>\n",
              "    <tr>\n",
              "      <th>8</th>\n",
              "      <td>19740</td>\n",
              "      <td>Denver-Aurora-Lakewood, CO</td>\n",
              "      <td>449900</td>\n",
              "      <td>98460</td>\n",
              "      <td>60927</td>\n",
              "    </tr>\n",
              "    <tr>\n",
              "      <th>9</th>\n",
              "      <td>26620</td>\n",
              "      <td>Huntsville, AL</td>\n",
              "      <td>205400</td>\n",
              "      <td>97340</td>\n",
              "      <td>27816</td>\n",
              "    </tr>\n",
              "    <tr>\n",
              "      <th>10</th>\n",
              "      <td>17820</td>\n",
              "      <td>Colorado Springs, CO</td>\n",
              "      <td>312200</td>\n",
              "      <td>95690</td>\n",
              "      <td>42279</td>\n",
              "    </tr>\n",
              "    <tr>\n",
              "      <th>11</th>\n",
              "      <td>26420</td>\n",
              "      <td>Houston-The Woodlands-Sugar Land, TX</td>\n",
              "      <td>238800</td>\n",
              "      <td>95520</td>\n",
              "      <td>32339</td>\n",
              "    </tr>\n",
              "    <tr>\n",
              "      <th>12</th>\n",
              "      <td>45940</td>\n",
              "      <td>Trenton, NJ</td>\n",
              "      <td>245500</td>\n",
              "      <td>94190</td>\n",
              "      <td>33246</td>\n",
              "    </tr>\n",
              "    <tr>\n",
              "      <th>13</th>\n",
              "      <td>19100</td>\n",
              "      <td>Dallas-Fort Worth-Arlington, TX</td>\n",
              "      <td>260000</td>\n",
              "      <td>93820</td>\n",
              "      <td>35210</td>\n",
              "    </tr>\n",
              "    <tr>\n",
              "      <th>14</th>\n",
              "      <td>18140</td>\n",
              "      <td>Columbus, OH</td>\n",
              "      <td>201800</td>\n",
              "      <td>92440</td>\n",
              "      <td>27328</td>\n",
              "    </tr>\n",
              "    <tr>\n",
              "      <th>15</th>\n",
              "      <td>12420</td>\n",
              "      <td>Austin-Round Rock, TX</td>\n",
              "      <td>315900</td>\n",
              "      <td>91970</td>\n",
              "      <td>42780</td>\n",
              "    </tr>\n",
              "    <tr>\n",
              "      <th>16</th>\n",
              "      <td>37980</td>\n",
              "      <td>Philadelphia-Camden-Wilmington, PA-NJ-DE-MD</td>\n",
              "      <td>229000</td>\n",
              "      <td>91820</td>\n",
              "      <td>31012</td>\n",
              "    </tr>\n",
              "    <tr>\n",
              "      <th>17</th>\n",
              "      <td>20500</td>\n",
              "      <td>Durham-Chapel Hill, NC</td>\n",
              "      <td>279000</td>\n",
              "      <td>91740</td>\n",
              "      <td>37783</td>\n",
              "    </tr>\n",
              "    <tr>\n",
              "      <th>18</th>\n",
              "      <td>39580</td>\n",
              "      <td>Raleigh, NC</td>\n",
              "      <td>283600</td>\n",
              "      <td>91680</td>\n",
              "      <td>38406</td>\n",
              "    </tr>\n",
              "    <tr>\n",
              "      <th>19</th>\n",
              "      <td>12060</td>\n",
              "      <td>Atlanta-Sandy Springs-Marietta, GA</td>\n",
              "      <td>219900</td>\n",
              "      <td>91220</td>\n",
              "      <td>29779</td>\n",
              "    </tr>\n",
              "  </tbody>\n",
              "</table>\n",
              "</div>"
            ],
            "text/plain": [
              "    cbsa_code  ... min_income\n",
              "0       41940  ...     181469\n",
              "1       41860  ...     133731\n",
              "2       42660  ...      67901\n",
              "3       47900  ...      57420\n",
              "4       35620  ...      55524\n",
              "5       12580  ...      38677\n",
              "6       14500  ...      82257\n",
              "7       41740  ...      85859\n",
              "8       19740  ...      60927\n",
              "9       26620  ...      27816\n",
              "10      17820  ...      42279\n",
              "11      26420  ...      32339\n",
              "12      45940  ...      33246\n",
              "13      19100  ...      35210\n",
              "14      18140  ...      27328\n",
              "15      12420  ...      42780\n",
              "16      37980  ...      31012\n",
              "17      20500  ...      37783\n",
              "18      39580  ...      38406\n",
              "19      12060  ...      29779\n",
              "\n",
              "[20 rows x 5 columns]"
            ]
          },
          "metadata": {
            "tags": []
          },
          "execution_count": 181
        }
      ]
    },
    {
      "cell_type": "code",
      "metadata": {
        "id": "NCgOS6-zy76n",
        "colab_type": "code",
        "outputId": "d3fd7104-6b6f-4563-bd33-9c4cbc86bfbc",
        "colab": {
          "base_uri": "https://localhost:8080/",
          "height": 669
        }
      },
      "source": [
        "final_df['differential'] = final_df.apply(lambda x: x['tech_salary'] - x['min_income'], axis=1)\n",
        "final_df.head(20)"
      ],
      "execution_count": 182,
      "outputs": [
        {
          "output_type": "execute_result",
          "data": {
            "text/html": [
              "<div>\n",
              "<style scoped>\n",
              "    .dataframe tbody tr th:only-of-type {\n",
              "        vertical-align: middle;\n",
              "    }\n",
              "\n",
              "    .dataframe tbody tr th {\n",
              "        vertical-align: top;\n",
              "    }\n",
              "\n",
              "    .dataframe thead th {\n",
              "        text-align: right;\n",
              "    }\n",
              "</style>\n",
              "<table border=\"1\" class=\"dataframe\">\n",
              "  <thead>\n",
              "    <tr style=\"text-align: right;\">\n",
              "      <th></th>\n",
              "      <th>cbsa_code</th>\n",
              "      <th>metro_area</th>\n",
              "      <th>median_home_price</th>\n",
              "      <th>tech_salary</th>\n",
              "      <th>min_income</th>\n",
              "      <th>differential</th>\n",
              "    </tr>\n",
              "  </thead>\n",
              "  <tbody>\n",
              "    <tr>\n",
              "      <th>0</th>\n",
              "      <td>41940</td>\n",
              "      <td>San Jose-Sunnyvale-Santa Clara, CA</td>\n",
              "      <td>1340000</td>\n",
              "      <td>127040</td>\n",
              "      <td>181469</td>\n",
              "      <td>-54429</td>\n",
              "    </tr>\n",
              "    <tr>\n",
              "      <th>1</th>\n",
              "      <td>41860</td>\n",
              "      <td>San Francisco-Oakland-Hayward, CA</td>\n",
              "      <td>987500</td>\n",
              "      <td>120730</td>\n",
              "      <td>133731</td>\n",
              "      <td>-13001</td>\n",
              "    </tr>\n",
              "    <tr>\n",
              "      <th>2</th>\n",
              "      <td>42660</td>\n",
              "      <td>Seattle-Tacoma-Bellevue, WA</td>\n",
              "      <td>501400</td>\n",
              "      <td>113750</td>\n",
              "      <td>67901</td>\n",
              "      <td>45849</td>\n",
              "    </tr>\n",
              "    <tr>\n",
              "      <th>3</th>\n",
              "      <td>47900</td>\n",
              "      <td>Washington-Arlington-Alexandria, DC-VA-MD-WV</td>\n",
              "      <td>424000</td>\n",
              "      <td>107760</td>\n",
              "      <td>57420</td>\n",
              "      <td>50340</td>\n",
              "    </tr>\n",
              "    <tr>\n",
              "      <th>4</th>\n",
              "      <td>35620</td>\n",
              "      <td>New York-Newark-Jersey City, NY-NJ-PA</td>\n",
              "      <td>410000</td>\n",
              "      <td>103960</td>\n",
              "      <td>55524</td>\n",
              "      <td>48436</td>\n",
              "    </tr>\n",
              "    <tr>\n",
              "      <th>5</th>\n",
              "      <td>12580</td>\n",
              "      <td>Baltimore-Columbia-Towson, MD</td>\n",
              "      <td>285600</td>\n",
              "      <td>101510</td>\n",
              "      <td>38677</td>\n",
              "      <td>62833</td>\n",
              "    </tr>\n",
              "    <tr>\n",
              "      <th>6</th>\n",
              "      <td>14500</td>\n",
              "      <td>Boulder, CO</td>\n",
              "      <td>607400</td>\n",
              "      <td>101220</td>\n",
              "      <td>82257</td>\n",
              "      <td>18963</td>\n",
              "    </tr>\n",
              "    <tr>\n",
              "      <th>7</th>\n",
              "      <td>41740</td>\n",
              "      <td>San Diego-Carlsbad, CA</td>\n",
              "      <td>634000</td>\n",
              "      <td>99890</td>\n",
              "      <td>85859</td>\n",
              "      <td>14031</td>\n",
              "    </tr>\n",
              "    <tr>\n",
              "      <th>8</th>\n",
              "      <td>19740</td>\n",
              "      <td>Denver-Aurora-Lakewood, CO</td>\n",
              "      <td>449900</td>\n",
              "      <td>98460</td>\n",
              "      <td>60927</td>\n",
              "      <td>37533</td>\n",
              "    </tr>\n",
              "    <tr>\n",
              "      <th>9</th>\n",
              "      <td>26620</td>\n",
              "      <td>Huntsville, AL</td>\n",
              "      <td>205400</td>\n",
              "      <td>97340</td>\n",
              "      <td>27816</td>\n",
              "      <td>69524</td>\n",
              "    </tr>\n",
              "    <tr>\n",
              "      <th>10</th>\n",
              "      <td>17820</td>\n",
              "      <td>Colorado Springs, CO</td>\n",
              "      <td>312200</td>\n",
              "      <td>95690</td>\n",
              "      <td>42279</td>\n",
              "      <td>53411</td>\n",
              "    </tr>\n",
              "    <tr>\n",
              "      <th>11</th>\n",
              "      <td>26420</td>\n",
              "      <td>Houston-The Woodlands-Sugar Land, TX</td>\n",
              "      <td>238800</td>\n",
              "      <td>95520</td>\n",
              "      <td>32339</td>\n",
              "      <td>63181</td>\n",
              "    </tr>\n",
              "    <tr>\n",
              "      <th>12</th>\n",
              "      <td>45940</td>\n",
              "      <td>Trenton, NJ</td>\n",
              "      <td>245500</td>\n",
              "      <td>94190</td>\n",
              "      <td>33246</td>\n",
              "      <td>60944</td>\n",
              "    </tr>\n",
              "    <tr>\n",
              "      <th>13</th>\n",
              "      <td>19100</td>\n",
              "      <td>Dallas-Fort Worth-Arlington, TX</td>\n",
              "      <td>260000</td>\n",
              "      <td>93820</td>\n",
              "      <td>35210</td>\n",
              "      <td>58610</td>\n",
              "    </tr>\n",
              "    <tr>\n",
              "      <th>14</th>\n",
              "      <td>18140</td>\n",
              "      <td>Columbus, OH</td>\n",
              "      <td>201800</td>\n",
              "      <td>92440</td>\n",
              "      <td>27328</td>\n",
              "      <td>65112</td>\n",
              "    </tr>\n",
              "    <tr>\n",
              "      <th>15</th>\n",
              "      <td>12420</td>\n",
              "      <td>Austin-Round Rock, TX</td>\n",
              "      <td>315900</td>\n",
              "      <td>91970</td>\n",
              "      <td>42780</td>\n",
              "      <td>49190</td>\n",
              "    </tr>\n",
              "    <tr>\n",
              "      <th>16</th>\n",
              "      <td>37980</td>\n",
              "      <td>Philadelphia-Camden-Wilmington, PA-NJ-DE-MD</td>\n",
              "      <td>229000</td>\n",
              "      <td>91820</td>\n",
              "      <td>31012</td>\n",
              "      <td>60808</td>\n",
              "    </tr>\n",
              "    <tr>\n",
              "      <th>17</th>\n",
              "      <td>20500</td>\n",
              "      <td>Durham-Chapel Hill, NC</td>\n",
              "      <td>279000</td>\n",
              "      <td>91740</td>\n",
              "      <td>37783</td>\n",
              "      <td>53957</td>\n",
              "    </tr>\n",
              "    <tr>\n",
              "      <th>18</th>\n",
              "      <td>39580</td>\n",
              "      <td>Raleigh, NC</td>\n",
              "      <td>283600</td>\n",
              "      <td>91680</td>\n",
              "      <td>38406</td>\n",
              "      <td>53274</td>\n",
              "    </tr>\n",
              "    <tr>\n",
              "      <th>19</th>\n",
              "      <td>12060</td>\n",
              "      <td>Atlanta-Sandy Springs-Marietta, GA</td>\n",
              "      <td>219900</td>\n",
              "      <td>91220</td>\n",
              "      <td>29779</td>\n",
              "      <td>61441</td>\n",
              "    </tr>\n",
              "  </tbody>\n",
              "</table>\n",
              "</div>"
            ],
            "text/plain": [
              "    cbsa_code  ... differential\n",
              "0       41940  ...       -54429\n",
              "1       41860  ...       -13001\n",
              "2       42660  ...        45849\n",
              "3       47900  ...        50340\n",
              "4       35620  ...        48436\n",
              "5       12580  ...        62833\n",
              "6       14500  ...        18963\n",
              "7       41740  ...        14031\n",
              "8       19740  ...        37533\n",
              "9       26620  ...        69524\n",
              "10      17820  ...        53411\n",
              "11      26420  ...        63181\n",
              "12      45940  ...        60944\n",
              "13      19100  ...        58610\n",
              "14      18140  ...        65112\n",
              "15      12420  ...        49190\n",
              "16      37980  ...        60808\n",
              "17      20500  ...        53957\n",
              "18      39580  ...        53274\n",
              "19      12060  ...        61441\n",
              "\n",
              "[20 rows x 6 columns]"
            ]
          },
          "metadata": {
            "tags": []
          },
          "execution_count": 182
        }
      ]
    },
    {
      "cell_type": "code",
      "metadata": {
        "id": "p8X8DVDPzbod",
        "colab_type": "code",
        "outputId": "3bce3b3c-af48-467e-bf0c-fda866f0b39d",
        "colab": {
          "base_uri": "https://localhost:8080/",
          "height": 669
        }
      },
      "source": [
        "area_dict = {\"San Jose-Sunnyvale-Santa Clara, CA\": \"San Jose, CA\", \"San Francisco-Oakland-Hayward, CA\": \"San Francisco, CA\",\n",
        "             \"Seattle-Tacoma-Bellevue, WA\": \"Seattle, WA\", \"Washington-Arlington-Alexandria, DC-VA-MD-WV\": \"Washington, DC\",\n",
        "             \"New York-Newark-Jersey City, NY-NJ-PA\": \"New York, NY\", \"Baltimore-Columbia-Towson, MD\": \"Baltimore, MD\",\n",
        "             \"San Diego-Carlsbad, CA\": \"San Diego, CA\", \"Denver-Aurora-Lakewood, CO\": \"Denver, CO\", \n",
        "             \"Houston-The Woodlands-Sugar Land, TX\": \"Houston, TX\", \"Dallas-Fort Worth-Arlington, TX\": \"Dallas, TX\",\n",
        "             \"Austin-Round Rock, TX\": \"Austin, TX\", \"Philadelphia-Camden-Wilmington, PA-NJ-DE-MD\": \"Philadelphia, PA\", \n",
        "             \"Durham-Chapel Hill, NC\": \"Durham, NC\", \"Atlanta-Sandy Springs-Marietta, GA\": \"Atlanta, GA\",\n",
        "             \"Davenport-Moline-Rock Island, IA-IL\t\": \"Davenport, IA\", \"Atlantic City-Hammonton, NJ\": \"Atlantic City, NJ\",\n",
        "             \"Palm Bay-Melbourne-Titusville, FL\": \"Palm Bay, FL\", \"Greensboro-High Point, NC\": \"Greensboro, NC\"\n",
        "            }\n",
        "\n",
        "final_df = final_df.replace({'metro_area': area_dict})\n",
        "final_df.head(20)"
      ],
      "execution_count": 183,
      "outputs": [
        {
          "output_type": "execute_result",
          "data": {
            "text/html": [
              "<div>\n",
              "<style scoped>\n",
              "    .dataframe tbody tr th:only-of-type {\n",
              "        vertical-align: middle;\n",
              "    }\n",
              "\n",
              "    .dataframe tbody tr th {\n",
              "        vertical-align: top;\n",
              "    }\n",
              "\n",
              "    .dataframe thead th {\n",
              "        text-align: right;\n",
              "    }\n",
              "</style>\n",
              "<table border=\"1\" class=\"dataframe\">\n",
              "  <thead>\n",
              "    <tr style=\"text-align: right;\">\n",
              "      <th></th>\n",
              "      <th>cbsa_code</th>\n",
              "      <th>metro_area</th>\n",
              "      <th>median_home_price</th>\n",
              "      <th>tech_salary</th>\n",
              "      <th>min_income</th>\n",
              "      <th>differential</th>\n",
              "    </tr>\n",
              "  </thead>\n",
              "  <tbody>\n",
              "    <tr>\n",
              "      <th>0</th>\n",
              "      <td>41940</td>\n",
              "      <td>San Jose, CA</td>\n",
              "      <td>1340000</td>\n",
              "      <td>127040</td>\n",
              "      <td>181469</td>\n",
              "      <td>-54429</td>\n",
              "    </tr>\n",
              "    <tr>\n",
              "      <th>1</th>\n",
              "      <td>41860</td>\n",
              "      <td>San Francisco, CA</td>\n",
              "      <td>987500</td>\n",
              "      <td>120730</td>\n",
              "      <td>133731</td>\n",
              "      <td>-13001</td>\n",
              "    </tr>\n",
              "    <tr>\n",
              "      <th>2</th>\n",
              "      <td>42660</td>\n",
              "      <td>Seattle, WA</td>\n",
              "      <td>501400</td>\n",
              "      <td>113750</td>\n",
              "      <td>67901</td>\n",
              "      <td>45849</td>\n",
              "    </tr>\n",
              "    <tr>\n",
              "      <th>3</th>\n",
              "      <td>47900</td>\n",
              "      <td>Washington, DC</td>\n",
              "      <td>424000</td>\n",
              "      <td>107760</td>\n",
              "      <td>57420</td>\n",
              "      <td>50340</td>\n",
              "    </tr>\n",
              "    <tr>\n",
              "      <th>4</th>\n",
              "      <td>35620</td>\n",
              "      <td>New York, NY</td>\n",
              "      <td>410000</td>\n",
              "      <td>103960</td>\n",
              "      <td>55524</td>\n",
              "      <td>48436</td>\n",
              "    </tr>\n",
              "    <tr>\n",
              "      <th>5</th>\n",
              "      <td>12580</td>\n",
              "      <td>Baltimore, MD</td>\n",
              "      <td>285600</td>\n",
              "      <td>101510</td>\n",
              "      <td>38677</td>\n",
              "      <td>62833</td>\n",
              "    </tr>\n",
              "    <tr>\n",
              "      <th>6</th>\n",
              "      <td>14500</td>\n",
              "      <td>Boulder, CO</td>\n",
              "      <td>607400</td>\n",
              "      <td>101220</td>\n",
              "      <td>82257</td>\n",
              "      <td>18963</td>\n",
              "    </tr>\n",
              "    <tr>\n",
              "      <th>7</th>\n",
              "      <td>41740</td>\n",
              "      <td>San Diego, CA</td>\n",
              "      <td>634000</td>\n",
              "      <td>99890</td>\n",
              "      <td>85859</td>\n",
              "      <td>14031</td>\n",
              "    </tr>\n",
              "    <tr>\n",
              "      <th>8</th>\n",
              "      <td>19740</td>\n",
              "      <td>Denver, CO</td>\n",
              "      <td>449900</td>\n",
              "      <td>98460</td>\n",
              "      <td>60927</td>\n",
              "      <td>37533</td>\n",
              "    </tr>\n",
              "    <tr>\n",
              "      <th>9</th>\n",
              "      <td>26620</td>\n",
              "      <td>Huntsville, AL</td>\n",
              "      <td>205400</td>\n",
              "      <td>97340</td>\n",
              "      <td>27816</td>\n",
              "      <td>69524</td>\n",
              "    </tr>\n",
              "    <tr>\n",
              "      <th>10</th>\n",
              "      <td>17820</td>\n",
              "      <td>Colorado Springs, CO</td>\n",
              "      <td>312200</td>\n",
              "      <td>95690</td>\n",
              "      <td>42279</td>\n",
              "      <td>53411</td>\n",
              "    </tr>\n",
              "    <tr>\n",
              "      <th>11</th>\n",
              "      <td>26420</td>\n",
              "      <td>Houston, TX</td>\n",
              "      <td>238800</td>\n",
              "      <td>95520</td>\n",
              "      <td>32339</td>\n",
              "      <td>63181</td>\n",
              "    </tr>\n",
              "    <tr>\n",
              "      <th>12</th>\n",
              "      <td>45940</td>\n",
              "      <td>Trenton, NJ</td>\n",
              "      <td>245500</td>\n",
              "      <td>94190</td>\n",
              "      <td>33246</td>\n",
              "      <td>60944</td>\n",
              "    </tr>\n",
              "    <tr>\n",
              "      <th>13</th>\n",
              "      <td>19100</td>\n",
              "      <td>Dallas, TX</td>\n",
              "      <td>260000</td>\n",
              "      <td>93820</td>\n",
              "      <td>35210</td>\n",
              "      <td>58610</td>\n",
              "    </tr>\n",
              "    <tr>\n",
              "      <th>14</th>\n",
              "      <td>18140</td>\n",
              "      <td>Columbus, OH</td>\n",
              "      <td>201800</td>\n",
              "      <td>92440</td>\n",
              "      <td>27328</td>\n",
              "      <td>65112</td>\n",
              "    </tr>\n",
              "    <tr>\n",
              "      <th>15</th>\n",
              "      <td>12420</td>\n",
              "      <td>Austin, TX</td>\n",
              "      <td>315900</td>\n",
              "      <td>91970</td>\n",
              "      <td>42780</td>\n",
              "      <td>49190</td>\n",
              "    </tr>\n",
              "    <tr>\n",
              "      <th>16</th>\n",
              "      <td>37980</td>\n",
              "      <td>Philadelphia, PA</td>\n",
              "      <td>229000</td>\n",
              "      <td>91820</td>\n",
              "      <td>31012</td>\n",
              "      <td>60808</td>\n",
              "    </tr>\n",
              "    <tr>\n",
              "      <th>17</th>\n",
              "      <td>20500</td>\n",
              "      <td>Durham, NC</td>\n",
              "      <td>279000</td>\n",
              "      <td>91740</td>\n",
              "      <td>37783</td>\n",
              "      <td>53957</td>\n",
              "    </tr>\n",
              "    <tr>\n",
              "      <th>18</th>\n",
              "      <td>39580</td>\n",
              "      <td>Raleigh, NC</td>\n",
              "      <td>283600</td>\n",
              "      <td>91680</td>\n",
              "      <td>38406</td>\n",
              "      <td>53274</td>\n",
              "    </tr>\n",
              "    <tr>\n",
              "      <th>19</th>\n",
              "      <td>12060</td>\n",
              "      <td>Atlanta, GA</td>\n",
              "      <td>219900</td>\n",
              "      <td>91220</td>\n",
              "      <td>29779</td>\n",
              "      <td>61441</td>\n",
              "    </tr>\n",
              "  </tbody>\n",
              "</table>\n",
              "</div>"
            ],
            "text/plain": [
              "    cbsa_code            metro_area  ...  min_income  differential\n",
              "0       41940          San Jose, CA  ...      181469        -54429\n",
              "1       41860     San Francisco, CA  ...      133731        -13001\n",
              "2       42660           Seattle, WA  ...       67901         45849\n",
              "3       47900        Washington, DC  ...       57420         50340\n",
              "4       35620          New York, NY  ...       55524         48436\n",
              "5       12580         Baltimore, MD  ...       38677         62833\n",
              "6       14500           Boulder, CO  ...       82257         18963\n",
              "7       41740         San Diego, CA  ...       85859         14031\n",
              "8       19740            Denver, CO  ...       60927         37533\n",
              "9       26620        Huntsville, AL  ...       27816         69524\n",
              "10      17820  Colorado Springs, CO  ...       42279         53411\n",
              "11      26420           Houston, TX  ...       32339         63181\n",
              "12      45940           Trenton, NJ  ...       33246         60944\n",
              "13      19100            Dallas, TX  ...       35210         58610\n",
              "14      18140          Columbus, OH  ...       27328         65112\n",
              "15      12420            Austin, TX  ...       42780         49190\n",
              "16      37980      Philadelphia, PA  ...       31012         60808\n",
              "17      20500            Durham, NC  ...       37783         53957\n",
              "18      39580           Raleigh, NC  ...       38406         53274\n",
              "19      12060           Atlanta, GA  ...       29779         61441\n",
              "\n",
              "[20 rows x 6 columns]"
            ]
          },
          "metadata": {
            "tags": []
          },
          "execution_count": 183
        }
      ]
    },
    {
      "cell_type": "code",
      "metadata": {
        "id": "ATUi-g9QoW8A",
        "colab_type": "code",
        "outputId": "cadd5876-5e3f-4c8f-9882-b9a110433df8",
        "colab": {
          "base_uri": "https://localhost:8080/",
          "height": 669
        }
      },
      "source": [
        "top_salaries = final_df.sort_values(by=['tech_salary'], ascending=False)[:20]\n",
        "top_salaries.head(20)"
      ],
      "execution_count": 184,
      "outputs": [
        {
          "output_type": "execute_result",
          "data": {
            "text/html": [
              "<div>\n",
              "<style scoped>\n",
              "    .dataframe tbody tr th:only-of-type {\n",
              "        vertical-align: middle;\n",
              "    }\n",
              "\n",
              "    .dataframe tbody tr th {\n",
              "        vertical-align: top;\n",
              "    }\n",
              "\n",
              "    .dataframe thead th {\n",
              "        text-align: right;\n",
              "    }\n",
              "</style>\n",
              "<table border=\"1\" class=\"dataframe\">\n",
              "  <thead>\n",
              "    <tr style=\"text-align: right;\">\n",
              "      <th></th>\n",
              "      <th>cbsa_code</th>\n",
              "      <th>metro_area</th>\n",
              "      <th>median_home_price</th>\n",
              "      <th>tech_salary</th>\n",
              "      <th>min_income</th>\n",
              "      <th>differential</th>\n",
              "    </tr>\n",
              "  </thead>\n",
              "  <tbody>\n",
              "    <tr>\n",
              "      <th>0</th>\n",
              "      <td>41940</td>\n",
              "      <td>San Jose, CA</td>\n",
              "      <td>1340000</td>\n",
              "      <td>127040</td>\n",
              "      <td>181469</td>\n",
              "      <td>-54429</td>\n",
              "    </tr>\n",
              "    <tr>\n",
              "      <th>1</th>\n",
              "      <td>41860</td>\n",
              "      <td>San Francisco, CA</td>\n",
              "      <td>987500</td>\n",
              "      <td>120730</td>\n",
              "      <td>133731</td>\n",
              "      <td>-13001</td>\n",
              "    </tr>\n",
              "    <tr>\n",
              "      <th>2</th>\n",
              "      <td>42660</td>\n",
              "      <td>Seattle, WA</td>\n",
              "      <td>501400</td>\n",
              "      <td>113750</td>\n",
              "      <td>67901</td>\n",
              "      <td>45849</td>\n",
              "    </tr>\n",
              "    <tr>\n",
              "      <th>3</th>\n",
              "      <td>47900</td>\n",
              "      <td>Washington, DC</td>\n",
              "      <td>424000</td>\n",
              "      <td>107760</td>\n",
              "      <td>57420</td>\n",
              "      <td>50340</td>\n",
              "    </tr>\n",
              "    <tr>\n",
              "      <th>4</th>\n",
              "      <td>35620</td>\n",
              "      <td>New York, NY</td>\n",
              "      <td>410000</td>\n",
              "      <td>103960</td>\n",
              "      <td>55524</td>\n",
              "      <td>48436</td>\n",
              "    </tr>\n",
              "    <tr>\n",
              "      <th>5</th>\n",
              "      <td>12580</td>\n",
              "      <td>Baltimore, MD</td>\n",
              "      <td>285600</td>\n",
              "      <td>101510</td>\n",
              "      <td>38677</td>\n",
              "      <td>62833</td>\n",
              "    </tr>\n",
              "    <tr>\n",
              "      <th>6</th>\n",
              "      <td>14500</td>\n",
              "      <td>Boulder, CO</td>\n",
              "      <td>607400</td>\n",
              "      <td>101220</td>\n",
              "      <td>82257</td>\n",
              "      <td>18963</td>\n",
              "    </tr>\n",
              "    <tr>\n",
              "      <th>7</th>\n",
              "      <td>41740</td>\n",
              "      <td>San Diego, CA</td>\n",
              "      <td>634000</td>\n",
              "      <td>99890</td>\n",
              "      <td>85859</td>\n",
              "      <td>14031</td>\n",
              "    </tr>\n",
              "    <tr>\n",
              "      <th>8</th>\n",
              "      <td>19740</td>\n",
              "      <td>Denver, CO</td>\n",
              "      <td>449900</td>\n",
              "      <td>98460</td>\n",
              "      <td>60927</td>\n",
              "      <td>37533</td>\n",
              "    </tr>\n",
              "    <tr>\n",
              "      <th>9</th>\n",
              "      <td>26620</td>\n",
              "      <td>Huntsville, AL</td>\n",
              "      <td>205400</td>\n",
              "      <td>97340</td>\n",
              "      <td>27816</td>\n",
              "      <td>69524</td>\n",
              "    </tr>\n",
              "    <tr>\n",
              "      <th>10</th>\n",
              "      <td>17820</td>\n",
              "      <td>Colorado Springs, CO</td>\n",
              "      <td>312200</td>\n",
              "      <td>95690</td>\n",
              "      <td>42279</td>\n",
              "      <td>53411</td>\n",
              "    </tr>\n",
              "    <tr>\n",
              "      <th>11</th>\n",
              "      <td>26420</td>\n",
              "      <td>Houston, TX</td>\n",
              "      <td>238800</td>\n",
              "      <td>95520</td>\n",
              "      <td>32339</td>\n",
              "      <td>63181</td>\n",
              "    </tr>\n",
              "    <tr>\n",
              "      <th>12</th>\n",
              "      <td>45940</td>\n",
              "      <td>Trenton, NJ</td>\n",
              "      <td>245500</td>\n",
              "      <td>94190</td>\n",
              "      <td>33246</td>\n",
              "      <td>60944</td>\n",
              "    </tr>\n",
              "    <tr>\n",
              "      <th>13</th>\n",
              "      <td>19100</td>\n",
              "      <td>Dallas, TX</td>\n",
              "      <td>260000</td>\n",
              "      <td>93820</td>\n",
              "      <td>35210</td>\n",
              "      <td>58610</td>\n",
              "    </tr>\n",
              "    <tr>\n",
              "      <th>14</th>\n",
              "      <td>18140</td>\n",
              "      <td>Columbus, OH</td>\n",
              "      <td>201800</td>\n",
              "      <td>92440</td>\n",
              "      <td>27328</td>\n",
              "      <td>65112</td>\n",
              "    </tr>\n",
              "    <tr>\n",
              "      <th>15</th>\n",
              "      <td>12420</td>\n",
              "      <td>Austin, TX</td>\n",
              "      <td>315900</td>\n",
              "      <td>91970</td>\n",
              "      <td>42780</td>\n",
              "      <td>49190</td>\n",
              "    </tr>\n",
              "    <tr>\n",
              "      <th>16</th>\n",
              "      <td>37980</td>\n",
              "      <td>Philadelphia, PA</td>\n",
              "      <td>229000</td>\n",
              "      <td>91820</td>\n",
              "      <td>31012</td>\n",
              "      <td>60808</td>\n",
              "    </tr>\n",
              "    <tr>\n",
              "      <th>17</th>\n",
              "      <td>20500</td>\n",
              "      <td>Durham, NC</td>\n",
              "      <td>279000</td>\n",
              "      <td>91740</td>\n",
              "      <td>37783</td>\n",
              "      <td>53957</td>\n",
              "    </tr>\n",
              "    <tr>\n",
              "      <th>18</th>\n",
              "      <td>39580</td>\n",
              "      <td>Raleigh, NC</td>\n",
              "      <td>283600</td>\n",
              "      <td>91680</td>\n",
              "      <td>38406</td>\n",
              "      <td>53274</td>\n",
              "    </tr>\n",
              "    <tr>\n",
              "      <th>19</th>\n",
              "      <td>12060</td>\n",
              "      <td>Atlanta, GA</td>\n",
              "      <td>219900</td>\n",
              "      <td>91220</td>\n",
              "      <td>29779</td>\n",
              "      <td>61441</td>\n",
              "    </tr>\n",
              "  </tbody>\n",
              "</table>\n",
              "</div>"
            ],
            "text/plain": [
              "    cbsa_code            metro_area  ...  min_income  differential\n",
              "0       41940          San Jose, CA  ...      181469        -54429\n",
              "1       41860     San Francisco, CA  ...      133731        -13001\n",
              "2       42660           Seattle, WA  ...       67901         45849\n",
              "3       47900        Washington, DC  ...       57420         50340\n",
              "4       35620          New York, NY  ...       55524         48436\n",
              "5       12580         Baltimore, MD  ...       38677         62833\n",
              "6       14500           Boulder, CO  ...       82257         18963\n",
              "7       41740         San Diego, CA  ...       85859         14031\n",
              "8       19740            Denver, CO  ...       60927         37533\n",
              "9       26620        Huntsville, AL  ...       27816         69524\n",
              "10      17820  Colorado Springs, CO  ...       42279         53411\n",
              "11      26420           Houston, TX  ...       32339         63181\n",
              "12      45940           Trenton, NJ  ...       33246         60944\n",
              "13      19100            Dallas, TX  ...       35210         58610\n",
              "14      18140          Columbus, OH  ...       27328         65112\n",
              "15      12420            Austin, TX  ...       42780         49190\n",
              "16      37980      Philadelphia, PA  ...       31012         60808\n",
              "17      20500            Durham, NC  ...       37783         53957\n",
              "18      39580           Raleigh, NC  ...       38406         53274\n",
              "19      12060           Atlanta, GA  ...       29779         61441\n",
              "\n",
              "[20 rows x 6 columns]"
            ]
          },
          "metadata": {
            "tags": []
          },
          "execution_count": 184
        }
      ]
    },
    {
      "cell_type": "code",
      "metadata": {
        "id": "0baIZ-hSpoBx",
        "colab_type": "code",
        "outputId": "25a8590c-1f45-4608-be27-cdb3fc7a37ed",
        "colab": {
          "base_uri": "https://localhost:8080/",
          "height": 91
        }
      },
      "source": [
        "metro_area = top_salaries['metro_area'].values.tolist()\n",
        "print(metro_area)\n",
        "salary = top_salaries['tech_salary'].values.tolist()\n",
        "print(salary)"
      ],
      "execution_count": 185,
      "outputs": [
        {
          "output_type": "stream",
          "text": [
            "['San Jose, CA', 'San Francisco, CA', 'Seattle, WA', 'Washington, DC', 'New York, NY', 'Baltimore, MD', 'Boulder, CO', 'San Diego, CA', 'Denver, CO', 'Huntsville, AL', 'Colorado Springs, CO', 'Houston, TX', 'Trenton, NJ', 'Dallas, TX', 'Columbus, OH', 'Austin, TX', 'Philadelphia, PA', 'Durham, NC', 'Raleigh, NC', 'Atlanta, GA']\n",
            "[127040, 120730, 113750, 107760, 103960, 101510, 101220, 99890, 98460, 97340, 95690, 95520, 94190, 93820, 92440, 91970, 91820, 91740, 91680, 91220]\n"
          ],
          "name": "stdout"
        }
      ]
    },
    {
      "cell_type": "code",
      "metadata": {
        "id": "D0HWLa7g6S7D",
        "colab_type": "code",
        "outputId": "529dad30-c427-4355-feb4-116c559ed85a",
        "colab": {
          "base_uri": "https://localhost:8080/",
          "height": 412
        }
      },
      "source": [
        "plt.style.use('fivethirtyeight')\n",
        "\n",
        "# Setting size of our plot\n",
        "fig, ax = plt.subplots(figsize=(8,6))\n",
        "\n",
        "areas = np.arange(len(metro_area))\n",
        "y_pos = areas[::-1]\n",
        "x_pos = salary[::-1]\n",
        "\n",
        "# Plot the data\n",
        "plt.barh(y_pos, salary)\n",
        "\n",
        "# Y axis past 0 & above 20 -- grid line will pass 0 & 20 marker\n",
        "plt.ylim(-2,25)\n",
        "plt.xlim(-60000, 170000)\n",
        "\n",
        "# Y-labels to only these\n",
        "plt.yticks(y_pos, metro_area);\n",
        "\n",
        "# X-labels and changing label names\n",
        "ax.set_xticks([])\n",
        "\n",
        "# Plot amounts\n",
        "for i, v in enumerate(y_pos):\n",
        "    ax.text(v + 140000, i + 0, '${:,.0f}'.format(x_pos[i]), color='#414141', fontweight='bold')\n",
        "    \n",
        "# Title text\n",
        "ax.text(x=-140000, y=24, s=\"Top 20 Tech Metro Areas by 2018 Tech Salary\", fontsize=18.5, fontweight='semibold', color='#414141')\n",
        "\n",
        "# Subtitle text\n",
        "ax.text(x=-140000, y=22, s='Average Mean Wage for Computer and Mathematical Occupations by MSA', fontsize=16.5, color='#414141');\n",
        "\n",
        "# The other signature bar\n",
        "ax.text(x = -140000, y = -2,\n",
        "    s = '________________________________________________________________________________________________________________',\n",
        "    color = 'grey', alpha = .5)\n",
        "\n",
        "ax.text(x = -140000, y = -4,\n",
        "    s = '   Jim King                                                                                                                      Source: Bureau of Labor Statistics, 2018   ',\n",
        "    fontsize = 12, color = 'grey', alpha = .5);\n"
      ],
      "execution_count": 186,
      "outputs": [
        {
          "output_type": "display_data",
          "data": {
            "image/png": "[encoded data removed]",
            "text/plain": [
              "<Figure size 576x432 with 1 Axes>"
            ]
          },
          "metadata": {
            "tags": []
          }
        }
      ]
    },
    {
      "cell_type": "code",
      "metadata": {
        "id": "lQSN8czqC8fz",
        "colab_type": "code",
        "outputId": "7b2c8854-f223-4ae2-bb42-c8ff3435a0c7",
        "colab": {
          "base_uri": "https://localhost:8080/",
          "height": 669
        }
      },
      "source": [
        "top_salaries = top_salaries.sort_values(by=['differential'], ascending=False)[:20]\n",
        "top_salaries.head(25)"
      ],
      "execution_count": 187,
      "outputs": [
        {
          "output_type": "execute_result",
          "data": {
            "text/html": [
              "<div>\n",
              "<style scoped>\n",
              "    .dataframe tbody tr th:only-of-type {\n",
              "        vertical-align: middle;\n",
              "    }\n",
              "\n",
              "    .dataframe tbody tr th {\n",
              "        vertical-align: top;\n",
              "    }\n",
              "\n",
              "    .dataframe thead th {\n",
              "        text-align: right;\n",
              "    }\n",
              "</style>\n",
              "<table border=\"1\" class=\"dataframe\">\n",
              "  <thead>\n",
              "    <tr style=\"text-align: right;\">\n",
              "      <th></th>\n",
              "      <th>cbsa_code</th>\n",
              "      <th>metro_area</th>\n",
              "      <th>median_home_price</th>\n",
              "      <th>tech_salary</th>\n",
              "      <th>min_income</th>\n",
              "      <th>differential</th>\n",
              "    </tr>\n",
              "  </thead>\n",
              "  <tbody>\n",
              "    <tr>\n",
              "      <th>9</th>\n",
              "      <td>26620</td>\n",
              "      <td>Huntsville, AL</td>\n",
              "      <td>205400</td>\n",
              "      <td>97340</td>\n",
              "      <td>27816</td>\n",
              "      <td>69524</td>\n",
              "    </tr>\n",
              "    <tr>\n",
              "      <th>14</th>\n",
              "      <td>18140</td>\n",
              "      <td>Columbus, OH</td>\n",
              "      <td>201800</td>\n",
              "      <td>92440</td>\n",
              "      <td>27328</td>\n",
              "      <td>65112</td>\n",
              "    </tr>\n",
              "    <tr>\n",
              "      <th>11</th>\n",
              "      <td>26420</td>\n",
              "      <td>Houston, TX</td>\n",
              "      <td>238800</td>\n",
              "      <td>95520</td>\n",
              "      <td>32339</td>\n",
              "      <td>63181</td>\n",
              "    </tr>\n",
              "    <tr>\n",
              "      <th>5</th>\n",
              "      <td>12580</td>\n",
              "      <td>Baltimore, MD</td>\n",
              "      <td>285600</td>\n",
              "      <td>101510</td>\n",
              "      <td>38677</td>\n",
              "      <td>62833</td>\n",
              "    </tr>\n",
              "    <tr>\n",
              "      <th>19</th>\n",
              "      <td>12060</td>\n",
              "      <td>Atlanta, GA</td>\n",
              "      <td>219900</td>\n",
              "      <td>91220</td>\n",
              "      <td>29779</td>\n",
              "      <td>61441</td>\n",
              "    </tr>\n",
              "    <tr>\n",
              "      <th>12</th>\n",
              "      <td>45940</td>\n",
              "      <td>Trenton, NJ</td>\n",
              "      <td>245500</td>\n",
              "      <td>94190</td>\n",
              "      <td>33246</td>\n",
              "      <td>60944</td>\n",
              "    </tr>\n",
              "    <tr>\n",
              "      <th>16</th>\n",
              "      <td>37980</td>\n",
              "      <td>Philadelphia, PA</td>\n",
              "      <td>229000</td>\n",
              "      <td>91820</td>\n",
              "      <td>31012</td>\n",
              "      <td>60808</td>\n",
              "    </tr>\n",
              "    <tr>\n",
              "      <th>13</th>\n",
              "      <td>19100</td>\n",
              "      <td>Dallas, TX</td>\n",
              "      <td>260000</td>\n",
              "      <td>93820</td>\n",
              "      <td>35210</td>\n",
              "      <td>58610</td>\n",
              "    </tr>\n",
              "    <tr>\n",
              "      <th>17</th>\n",
              "      <td>20500</td>\n",
              "      <td>Durham, NC</td>\n",
              "      <td>279000</td>\n",
              "      <td>91740</td>\n",
              "      <td>37783</td>\n",
              "      <td>53957</td>\n",
              "    </tr>\n",
              "    <tr>\n",
              "      <th>10</th>\n",
              "      <td>17820</td>\n",
              "      <td>Colorado Springs, CO</td>\n",
              "      <td>312200</td>\n",
              "      <td>95690</td>\n",
              "      <td>42279</td>\n",
              "      <td>53411</td>\n",
              "    </tr>\n",
              "    <tr>\n",
              "      <th>18</th>\n",
              "      <td>39580</td>\n",
              "      <td>Raleigh, NC</td>\n",
              "      <td>283600</td>\n",
              "      <td>91680</td>\n",
              "      <td>38406</td>\n",
              "      <td>53274</td>\n",
              "    </tr>\n",
              "    <tr>\n",
              "      <th>3</th>\n",
              "      <td>47900</td>\n",
              "      <td>Washington, DC</td>\n",
              "      <td>424000</td>\n",
              "      <td>107760</td>\n",
              "      <td>57420</td>\n",
              "      <td>50340</td>\n",
              "    </tr>\n",
              "    <tr>\n",
              "      <th>15</th>\n",
              "      <td>12420</td>\n",
              "      <td>Austin, TX</td>\n",
              "      <td>315900</td>\n",
              "      <td>91970</td>\n",
              "      <td>42780</td>\n",
              "      <td>49190</td>\n",
              "    </tr>\n",
              "    <tr>\n",
              "      <th>4</th>\n",
              "      <td>35620</td>\n",
              "      <td>New York, NY</td>\n",
              "      <td>410000</td>\n",
              "      <td>103960</td>\n",
              "      <td>55524</td>\n",
              "      <td>48436</td>\n",
              "    </tr>\n",
              "    <tr>\n",
              "      <th>2</th>\n",
              "      <td>42660</td>\n",
              "      <td>Seattle, WA</td>\n",
              "      <td>501400</td>\n",
              "      <td>113750</td>\n",
              "      <td>67901</td>\n",
              "      <td>45849</td>\n",
              "    </tr>\n",
              "    <tr>\n",
              "      <th>8</th>\n",
              "      <td>19740</td>\n",
              "      <td>Denver, CO</td>\n",
              "      <td>449900</td>\n",
              "      <td>98460</td>\n",
              "      <td>60927</td>\n",
              "      <td>37533</td>\n",
              "    </tr>\n",
              "    <tr>\n",
              "      <th>6</th>\n",
              "      <td>14500</td>\n",
              "      <td>Boulder, CO</td>\n",
              "      <td>607400</td>\n",
              "      <td>101220</td>\n",
              "      <td>82257</td>\n",
              "      <td>18963</td>\n",
              "    </tr>\n",
              "    <tr>\n",
              "      <th>7</th>\n",
              "      <td>41740</td>\n",
              "      <td>San Diego, CA</td>\n",
              "      <td>634000</td>\n",
              "      <td>99890</td>\n",
              "      <td>85859</td>\n",
              "      <td>14031</td>\n",
              "    </tr>\n",
              "    <tr>\n",
              "      <th>1</th>\n",
              "      <td>41860</td>\n",
              "      <td>San Francisco, CA</td>\n",
              "      <td>987500</td>\n",
              "      <td>120730</td>\n",
              "      <td>133731</td>\n",
              "      <td>-13001</td>\n",
              "    </tr>\n",
              "    <tr>\n",
              "      <th>0</th>\n",
              "      <td>41940</td>\n",
              "      <td>San Jose, CA</td>\n",
              "      <td>1340000</td>\n",
              "      <td>127040</td>\n",
              "      <td>181469</td>\n",
              "      <td>-54429</td>\n",
              "    </tr>\n",
              "  </tbody>\n",
              "</table>\n",
              "</div>"
            ],
            "text/plain": [
              "    cbsa_code            metro_area  ...  min_income  differential\n",
              "9       26620        Huntsville, AL  ...       27816         69524\n",
              "14      18140          Columbus, OH  ...       27328         65112\n",
              "11      26420           Houston, TX  ...       32339         63181\n",
              "5       12580         Baltimore, MD  ...       38677         62833\n",
              "19      12060           Atlanta, GA  ...       29779         61441\n",
              "12      45940           Trenton, NJ  ...       33246         60944\n",
              "16      37980      Philadelphia, PA  ...       31012         60808\n",
              "13      19100            Dallas, TX  ...       35210         58610\n",
              "17      20500            Durham, NC  ...       37783         53957\n",
              "10      17820  Colorado Springs, CO  ...       42279         53411\n",
              "18      39580           Raleigh, NC  ...       38406         53274\n",
              "3       47900        Washington, DC  ...       57420         50340\n",
              "15      12420            Austin, TX  ...       42780         49190\n",
              "4       35620          New York, NY  ...       55524         48436\n",
              "2       42660           Seattle, WA  ...       67901         45849\n",
              "8       19740            Denver, CO  ...       60927         37533\n",
              "6       14500           Boulder, CO  ...       82257         18963\n",
              "7       41740         San Diego, CA  ...       85859         14031\n",
              "1       41860     San Francisco, CA  ...      133731        -13001\n",
              "0       41940          San Jose, CA  ...      181469        -54429\n",
              "\n",
              "[20 rows x 6 columns]"
            ]
          },
          "metadata": {
            "tags": []
          },
          "execution_count": 187
        }
      ]
    },
    {
      "cell_type": "code",
      "metadata": {
        "id": "-JVLjORhDoz6",
        "colab_type": "code",
        "outputId": "10aadc97-50c0-4f23-98b1-2b3ea3e73b19",
        "colab": {
          "base_uri": "https://localhost:8080/",
          "height": 91
        }
      },
      "source": [
        "metro_area = top_salaries['metro_area'].values.tolist()\n",
        "print(metro_area)\n",
        "salary = top_salaries['differential'].values.tolist()\n",
        "print(salary)"
      ],
      "execution_count": 188,
      "outputs": [
        {
          "output_type": "stream",
          "text": [
            "['Huntsville, AL', 'Columbus, OH', 'Houston, TX', 'Baltimore, MD', 'Atlanta, GA', 'Trenton, NJ', 'Philadelphia, PA', 'Dallas, TX', 'Durham, NC', 'Colorado Springs, CO', 'Raleigh, NC', 'Washington, DC', 'Austin, TX', 'New York, NY', 'Seattle, WA', 'Denver, CO', 'Boulder, CO', 'San Diego, CA', 'San Francisco, CA', 'San Jose, CA']\n",
            "[69524, 65112, 63181, 62833, 61441, 60944, 60808, 58610, 53957, 53411, 53274, 50340, 49190, 48436, 45849, 37533, 18963, 14031, -13001, -54429]\n"
          ],
          "name": "stdout"
        }
      ]
    },
    {
      "cell_type": "code",
      "metadata": {
        "id": "iYvXwNSUDdhE",
        "colab_type": "code",
        "outputId": "eae2e2e5-bbec-4d52-bf65-d69f9ff32038",
        "colab": {
          "base_uri": "https://localhost:8080/",
          "height": 449
        }
      },
      "source": [
        "plt.style.use('fivethirtyeight')\n",
        "\n",
        "# Setting size of our plot\n",
        "fig, ax = plt.subplots(figsize=(8,6))\n",
        "\n",
        "areas = np.arange(len(metro_area))\n",
        "y_pos = areas[::-1]\n",
        "x_pos = salary[::-1]\n",
        "\n",
        "# Plot the data\n",
        "plt.barh(y_pos, salary)\n",
        "\n",
        "# Y axis past 0 & above 20 -- grid line will pass 0 & 20 marker\n",
        "plt.ylim(-2,25)\n",
        "plt.xlim(-60000, 170000)\n",
        "\n",
        "# Y-labels to only these\n",
        "plt.yticks(y_pos, metro_area);\n",
        "\n",
        "# X-labels and changing label names\n",
        "ax.set_xticks([])\n",
        "\n",
        "# Plot amounts\n",
        "for i, v in enumerate(y_pos):\n",
        "    ax.text(v + 140000, i + 0, '${:,.0f}'.format(x_pos[i]), color='#414141', fontweight='bold')\n",
        "    \n",
        "# Title text\n",
        "ax.text(x=-140000, y=24, s=\"Top 20 Tech Metro Areas 2018 Housing Differential\", fontsize=18.5, fontweight='semibold', color='#414141')\n",
        "\n",
        "# Subtitle text\n",
        "ax.text(x=-140000, y=22, s='Differential = Average Mean Wage - Minimum Income Needed to Buy Median Priced Home', fontsize=16, color='#414141');\n",
        "\n",
        "# The other signature bar\n",
        "ax.text(x = -140000, y = -2,\n",
        "    s = '________________________________________________________________________________________________________________',\n",
        "    color = 'grey', alpha = .5)\n",
        "\n",
        "ax.text(x = -140000, y = -4,\n",
        "    s = '   Jim King                                                                                                                        Source: California Association of Realtors   ',\n",
        "    fontsize = 12, color = 'grey', alpha = .5)\n"
      ],
      "execution_count": 189,
      "outputs": [
        {
          "output_type": "execute_result",
          "data": {
            "text/plain": [
              "Text(-140000, -4, '   Jim King                                                                                                                        Source: California Association of Realtors   ')"
            ]
          },
          "metadata": {
            "tags": []
          },
          "execution_count": 189
        },
        {
          "output_type": "display_data",
          "data": {
            "image/png": "[encoded data removed]",
            "text/plain": [
              "<Figure size 576x432 with 1 Axes>"
            ]
          },
          "metadata": {
            "tags": []
          }
        }
      ]
    },
    {
      "cell_type": "code",
      "metadata": {
        "id": "KfZB-AFbDSvK",
        "colab_type": "code",
        "outputId": "9e72a63b-3f6c-4440-d617-8180fe222f14",
        "colab": {
          "base_uri": "https://localhost:8080/",
          "height": 669
        }
      },
      "source": [
        "top_salaries = final_df.sort_values(by=['tech_salary'], ascending=False)[:20]\n",
        "top_salaries.head(20)"
      ],
      "execution_count": 190,
      "outputs": [
        {
          "output_type": "execute_result",
          "data": {
            "text/html": [
              "<div>\n",
              "<style scoped>\n",
              "    .dataframe tbody tr th:only-of-type {\n",
              "        vertical-align: middle;\n",
              "    }\n",
              "\n",
              "    .dataframe tbody tr th {\n",
              "        vertical-align: top;\n",
              "    }\n",
              "\n",
              "    .dataframe thead th {\n",
              "        text-align: right;\n",
              "    }\n",
              "</style>\n",
              "<table border=\"1\" class=\"dataframe\">\n",
              "  <thead>\n",
              "    <tr style=\"text-align: right;\">\n",
              "      <th></th>\n",
              "      <th>cbsa_code</th>\n",
              "      <th>metro_area</th>\n",
              "      <th>median_home_price</th>\n",
              "      <th>tech_salary</th>\n",
              "      <th>min_income</th>\n",
              "      <th>differential</th>\n",
              "    </tr>\n",
              "  </thead>\n",
              "  <tbody>\n",
              "    <tr>\n",
              "      <th>0</th>\n",
              "      <td>41940</td>\n",
              "      <td>San Jose, CA</td>\n",
              "      <td>1340000</td>\n",
              "      <td>127040</td>\n",
              "      <td>181469</td>\n",
              "      <td>-54429</td>\n",
              "    </tr>\n",
              "    <tr>\n",
              "      <th>1</th>\n",
              "      <td>41860</td>\n",
              "      <td>San Francisco, CA</td>\n",
              "      <td>987500</td>\n",
              "      <td>120730</td>\n",
              "      <td>133731</td>\n",
              "      <td>-13001</td>\n",
              "    </tr>\n",
              "    <tr>\n",
              "      <th>2</th>\n",
              "      <td>42660</td>\n",
              "      <td>Seattle, WA</td>\n",
              "      <td>501400</td>\n",
              "      <td>113750</td>\n",
              "      <td>67901</td>\n",
              "      <td>45849</td>\n",
              "    </tr>\n",
              "    <tr>\n",
              "      <th>3</th>\n",
              "      <td>47900</td>\n",
              "      <td>Washington, DC</td>\n",
              "      <td>424000</td>\n",
              "      <td>107760</td>\n",
              "      <td>57420</td>\n",
              "      <td>50340</td>\n",
              "    </tr>\n",
              "    <tr>\n",
              "      <th>4</th>\n",
              "      <td>35620</td>\n",
              "      <td>New York, NY</td>\n",
              "      <td>410000</td>\n",
              "      <td>103960</td>\n",
              "      <td>55524</td>\n",
              "      <td>48436</td>\n",
              "    </tr>\n",
              "    <tr>\n",
              "      <th>5</th>\n",
              "      <td>12580</td>\n",
              "      <td>Baltimore, MD</td>\n",
              "      <td>285600</td>\n",
              "      <td>101510</td>\n",
              "      <td>38677</td>\n",
              "      <td>62833</td>\n",
              "    </tr>\n",
              "    <tr>\n",
              "      <th>6</th>\n",
              "      <td>14500</td>\n",
              "      <td>Boulder, CO</td>\n",
              "      <td>607400</td>\n",
              "      <td>101220</td>\n",
              "      <td>82257</td>\n",
              "      <td>18963</td>\n",
              "    </tr>\n",
              "    <tr>\n",
              "      <th>7</th>\n",
              "      <td>41740</td>\n",
              "      <td>San Diego, CA</td>\n",
              "      <td>634000</td>\n",
              "      <td>99890</td>\n",
              "      <td>85859</td>\n",
              "      <td>14031</td>\n",
              "    </tr>\n",
              "    <tr>\n",
              "      <th>8</th>\n",
              "      <td>19740</td>\n",
              "      <td>Denver, CO</td>\n",
              "      <td>449900</td>\n",
              "      <td>98460</td>\n",
              "      <td>60927</td>\n",
              "      <td>37533</td>\n",
              "    </tr>\n",
              "    <tr>\n",
              "      <th>9</th>\n",
              "      <td>26620</td>\n",
              "      <td>Huntsville, AL</td>\n",
              "      <td>205400</td>\n",
              "      <td>97340</td>\n",
              "      <td>27816</td>\n",
              "      <td>69524</td>\n",
              "    </tr>\n",
              "    <tr>\n",
              "      <th>10</th>\n",
              "      <td>17820</td>\n",
              "      <td>Colorado Springs, CO</td>\n",
              "      <td>312200</td>\n",
              "      <td>95690</td>\n",
              "      <td>42279</td>\n",
              "      <td>53411</td>\n",
              "    </tr>\n",
              "    <tr>\n",
              "      <th>11</th>\n",
              "      <td>26420</td>\n",
              "      <td>Houston, TX</td>\n",
              "      <td>238800</td>\n",
              "      <td>95520</td>\n",
              "      <td>32339</td>\n",
              "      <td>63181</td>\n",
              "    </tr>\n",
              "    <tr>\n",
              "      <th>12</th>\n",
              "      <td>45940</td>\n",
              "      <td>Trenton, NJ</td>\n",
              "      <td>245500</td>\n",
              "      <td>94190</td>\n",
              "      <td>33246</td>\n",
              "      <td>60944</td>\n",
              "    </tr>\n",
              "    <tr>\n",
              "      <th>13</th>\n",
              "      <td>19100</td>\n",
              "      <td>Dallas, TX</td>\n",
              "      <td>260000</td>\n",
              "      <td>93820</td>\n",
              "      <td>35210</td>\n",
              "      <td>58610</td>\n",
              "    </tr>\n",
              "    <tr>\n",
              "      <th>14</th>\n",
              "      <td>18140</td>\n",
              "      <td>Columbus, OH</td>\n",
              "      <td>201800</td>\n",
              "      <td>92440</td>\n",
              "      <td>27328</td>\n",
              "      <td>65112</td>\n",
              "    </tr>\n",
              "    <tr>\n",
              "      <th>15</th>\n",
              "      <td>12420</td>\n",
              "      <td>Austin, TX</td>\n",
              "      <td>315900</td>\n",
              "      <td>91970</td>\n",
              "      <td>42780</td>\n",
              "      <td>49190</td>\n",
              "    </tr>\n",
              "    <tr>\n",
              "      <th>16</th>\n",
              "      <td>37980</td>\n",
              "      <td>Philadelphia, PA</td>\n",
              "      <td>229000</td>\n",
              "      <td>91820</td>\n",
              "      <td>31012</td>\n",
              "      <td>60808</td>\n",
              "    </tr>\n",
              "    <tr>\n",
              "      <th>17</th>\n",
              "      <td>20500</td>\n",
              "      <td>Durham, NC</td>\n",
              "      <td>279000</td>\n",
              "      <td>91740</td>\n",
              "      <td>37783</td>\n",
              "      <td>53957</td>\n",
              "    </tr>\n",
              "    <tr>\n",
              "      <th>18</th>\n",
              "      <td>39580</td>\n",
              "      <td>Raleigh, NC</td>\n",
              "      <td>283600</td>\n",
              "      <td>91680</td>\n",
              "      <td>38406</td>\n",
              "      <td>53274</td>\n",
              "    </tr>\n",
              "    <tr>\n",
              "      <th>19</th>\n",
              "      <td>12060</td>\n",
              "      <td>Atlanta, GA</td>\n",
              "      <td>219900</td>\n",
              "      <td>91220</td>\n",
              "      <td>29779</td>\n",
              "      <td>61441</td>\n",
              "    </tr>\n",
              "  </tbody>\n",
              "</table>\n",
              "</div>"
            ],
            "text/plain": [
              "    cbsa_code            metro_area  ...  min_income  differential\n",
              "0       41940          San Jose, CA  ...      181469        -54429\n",
              "1       41860     San Francisco, CA  ...      133731        -13001\n",
              "2       42660           Seattle, WA  ...       67901         45849\n",
              "3       47900        Washington, DC  ...       57420         50340\n",
              "4       35620          New York, NY  ...       55524         48436\n",
              "5       12580         Baltimore, MD  ...       38677         62833\n",
              "6       14500           Boulder, CO  ...       82257         18963\n",
              "7       41740         San Diego, CA  ...       85859         14031\n",
              "8       19740            Denver, CO  ...       60927         37533\n",
              "9       26620        Huntsville, AL  ...       27816         69524\n",
              "10      17820  Colorado Springs, CO  ...       42279         53411\n",
              "11      26420           Houston, TX  ...       32339         63181\n",
              "12      45940           Trenton, NJ  ...       33246         60944\n",
              "13      19100            Dallas, TX  ...       35210         58610\n",
              "14      18140          Columbus, OH  ...       27328         65112\n",
              "15      12420            Austin, TX  ...       42780         49190\n",
              "16      37980      Philadelphia, PA  ...       31012         60808\n",
              "17      20500            Durham, NC  ...       37783         53957\n",
              "18      39580           Raleigh, NC  ...       38406         53274\n",
              "19      12060           Atlanta, GA  ...       29779         61441\n",
              "\n",
              "[20 rows x 6 columns]"
            ]
          },
          "metadata": {
            "tags": []
          },
          "execution_count": 190
        }
      ]
    },
    {
      "cell_type": "code",
      "metadata": {
        "id": "InaHq2jmDVB7",
        "colab_type": "code",
        "outputId": "8a04de8a-59bb-40f7-faec-0e410ec80104",
        "colab": {
          "base_uri": "https://localhost:8080/",
          "height": 669
        }
      },
      "source": [
        "salary_rank_df = top_salaries.drop(['median_home_price', 'min_income', 'differential'], axis=1)\n",
        "salary_rank_df.head(20)"
      ],
      "execution_count": 191,
      "outputs": [
        {
          "output_type": "execute_result",
          "data": {
            "text/html": [
              "<div>\n",
              "<style scoped>\n",
              "    .dataframe tbody tr th:only-of-type {\n",
              "        vertical-align: middle;\n",
              "    }\n",
              "\n",
              "    .dataframe tbody tr th {\n",
              "        vertical-align: top;\n",
              "    }\n",
              "\n",
              "    .dataframe thead th {\n",
              "        text-align: right;\n",
              "    }\n",
              "</style>\n",
              "<table border=\"1\" class=\"dataframe\">\n",
              "  <thead>\n",
              "    <tr style=\"text-align: right;\">\n",
              "      <th></th>\n",
              "      <th>cbsa_code</th>\n",
              "      <th>metro_area</th>\n",
              "      <th>tech_salary</th>\n",
              "    </tr>\n",
              "  </thead>\n",
              "  <tbody>\n",
              "    <tr>\n",
              "      <th>0</th>\n",
              "      <td>41940</td>\n",
              "      <td>San Jose, CA</td>\n",
              "      <td>127040</td>\n",
              "    </tr>\n",
              "    <tr>\n",
              "      <th>1</th>\n",
              "      <td>41860</td>\n",
              "      <td>San Francisco, CA</td>\n",
              "      <td>120730</td>\n",
              "    </tr>\n",
              "    <tr>\n",
              "      <th>2</th>\n",
              "      <td>42660</td>\n",
              "      <td>Seattle, WA</td>\n",
              "      <td>113750</td>\n",
              "    </tr>\n",
              "    <tr>\n",
              "      <th>3</th>\n",
              "      <td>47900</td>\n",
              "      <td>Washington, DC</td>\n",
              "      <td>107760</td>\n",
              "    </tr>\n",
              "    <tr>\n",
              "      <th>4</th>\n",
              "      <td>35620</td>\n",
              "      <td>New York, NY</td>\n",
              "      <td>103960</td>\n",
              "    </tr>\n",
              "    <tr>\n",
              "      <th>5</th>\n",
              "      <td>12580</td>\n",
              "      <td>Baltimore, MD</td>\n",
              "      <td>101510</td>\n",
              "    </tr>\n",
              "    <tr>\n",
              "      <th>6</th>\n",
              "      <td>14500</td>\n",
              "      <td>Boulder, CO</td>\n",
              "      <td>101220</td>\n",
              "    </tr>\n",
              "    <tr>\n",
              "      <th>7</th>\n",
              "      <td>41740</td>\n",
              "      <td>San Diego, CA</td>\n",
              "      <td>99890</td>\n",
              "    </tr>\n",
              "    <tr>\n",
              "      <th>8</th>\n",
              "      <td>19740</td>\n",
              "      <td>Denver, CO</td>\n",
              "      <td>98460</td>\n",
              "    </tr>\n",
              "    <tr>\n",
              "      <th>9</th>\n",
              "      <td>26620</td>\n",
              "      <td>Huntsville, AL</td>\n",
              "      <td>97340</td>\n",
              "    </tr>\n",
              "    <tr>\n",
              "      <th>10</th>\n",
              "      <td>17820</td>\n",
              "      <td>Colorado Springs, CO</td>\n",
              "      <td>95690</td>\n",
              "    </tr>\n",
              "    <tr>\n",
              "      <th>11</th>\n",
              "      <td>26420</td>\n",
              "      <td>Houston, TX</td>\n",
              "      <td>95520</td>\n",
              "    </tr>\n",
              "    <tr>\n",
              "      <th>12</th>\n",
              "      <td>45940</td>\n",
              "      <td>Trenton, NJ</td>\n",
              "      <td>94190</td>\n",
              "    </tr>\n",
              "    <tr>\n",
              "      <th>13</th>\n",
              "      <td>19100</td>\n",
              "      <td>Dallas, TX</td>\n",
              "      <td>93820</td>\n",
              "    </tr>\n",
              "    <tr>\n",
              "      <th>14</th>\n",
              "      <td>18140</td>\n",
              "      <td>Columbus, OH</td>\n",
              "      <td>92440</td>\n",
              "    </tr>\n",
              "    <tr>\n",
              "      <th>15</th>\n",
              "      <td>12420</td>\n",
              "      <td>Austin, TX</td>\n",
              "      <td>91970</td>\n",
              "    </tr>\n",
              "    <tr>\n",
              "      <th>16</th>\n",
              "      <td>37980</td>\n",
              "      <td>Philadelphia, PA</td>\n",
              "      <td>91820</td>\n",
              "    </tr>\n",
              "    <tr>\n",
              "      <th>17</th>\n",
              "      <td>20500</td>\n",
              "      <td>Durham, NC</td>\n",
              "      <td>91740</td>\n",
              "    </tr>\n",
              "    <tr>\n",
              "      <th>18</th>\n",
              "      <td>39580</td>\n",
              "      <td>Raleigh, NC</td>\n",
              "      <td>91680</td>\n",
              "    </tr>\n",
              "    <tr>\n",
              "      <th>19</th>\n",
              "      <td>12060</td>\n",
              "      <td>Atlanta, GA</td>\n",
              "      <td>91220</td>\n",
              "    </tr>\n",
              "  </tbody>\n",
              "</table>\n",
              "</div>"
            ],
            "text/plain": [
              "    cbsa_code            metro_area  tech_salary\n",
              "0       41940          San Jose, CA       127040\n",
              "1       41860     San Francisco, CA       120730\n",
              "2       42660           Seattle, WA       113750\n",
              "3       47900        Washington, DC       107760\n",
              "4       35620          New York, NY       103960\n",
              "5       12580         Baltimore, MD       101510\n",
              "6       14500           Boulder, CO       101220\n",
              "7       41740         San Diego, CA        99890\n",
              "8       19740            Denver, CO        98460\n",
              "9       26620        Huntsville, AL        97340\n",
              "10      17820  Colorado Springs, CO        95690\n",
              "11      26420           Houston, TX        95520\n",
              "12      45940           Trenton, NJ        94190\n",
              "13      19100            Dallas, TX        93820\n",
              "14      18140          Columbus, OH        92440\n",
              "15      12420            Austin, TX        91970\n",
              "16      37980      Philadelphia, PA        91820\n",
              "17      20500            Durham, NC        91740\n",
              "18      39580           Raleigh, NC        91680\n",
              "19      12060           Atlanta, GA        91220"
            ]
          },
          "metadata": {
            "tags": []
          },
          "execution_count": 191
        }
      ]
    },
    {
      "cell_type": "code",
      "metadata": {
        "id": "sTnxcybzHYM-",
        "colab_type": "code",
        "outputId": "2a95dd0b-5871-4d9f-a7e4-3c6c79e5f87b",
        "colab": {
          "base_uri": "https://localhost:8080/",
          "height": 669
        }
      },
      "source": [
        "salary_dict = {'cbsa_code': 'Rank', 'metro_area': 'Metro Area', 'tech_salary': 'Average Tech Salary'}\n",
        "salary_rank_df = salary_rank_df.rename(columns=salary_dict)\n",
        "salary_rank_df.head(20)"
      ],
      "execution_count": 192,
      "outputs": [
        {
          "output_type": "execute_result",
          "data": {
            "text/html": [
              "<div>\n",
              "<style scoped>\n",
              "    .dataframe tbody tr th:only-of-type {\n",
              "        vertical-align: middle;\n",
              "    }\n",
              "\n",
              "    .dataframe tbody tr th {\n",
              "        vertical-align: top;\n",
              "    }\n",
              "\n",
              "    .dataframe thead th {\n",
              "        text-align: right;\n",
              "    }\n",
              "</style>\n",
              "<table border=\"1\" class=\"dataframe\">\n",
              "  <thead>\n",
              "    <tr style=\"text-align: right;\">\n",
              "      <th></th>\n",
              "      <th>Rank</th>\n",
              "      <th>Metro Area</th>\n",
              "      <th>Average Tech Salary</th>\n",
              "    </tr>\n",
              "  </thead>\n",
              "  <tbody>\n",
              "    <tr>\n",
              "      <th>0</th>\n",
              "      <td>41940</td>\n",
              "      <td>San Jose, CA</td>\n",
              "      <td>127040</td>\n",
              "    </tr>\n",
              "    <tr>\n",
              "      <th>1</th>\n",
              "      <td>41860</td>\n",
              "      <td>San Francisco, CA</td>\n",
              "      <td>120730</td>\n",
              "    </tr>\n",
              "    <tr>\n",
              "      <th>2</th>\n",
              "      <td>42660</td>\n",
              "      <td>Seattle, WA</td>\n",
              "      <td>113750</td>\n",
              "    </tr>\n",
              "    <tr>\n",
              "      <th>3</th>\n",
              "      <td>47900</td>\n",
              "      <td>Washington, DC</td>\n",
              "      <td>107760</td>\n",
              "    </tr>\n",
              "    <tr>\n",
              "      <th>4</th>\n",
              "      <td>35620</td>\n",
              "      <td>New York, NY</td>\n",
              "      <td>103960</td>\n",
              "    </tr>\n",
              "    <tr>\n",
              "      <th>5</th>\n",
              "      <td>12580</td>\n",
              "      <td>Baltimore, MD</td>\n",
              "      <td>101510</td>\n",
              "    </tr>\n",
              "    <tr>\n",
              "      <th>6</th>\n",
              "      <td>14500</td>\n",
              "      <td>Boulder, CO</td>\n",
              "      <td>101220</td>\n",
              "    </tr>\n",
              "    <tr>\n",
              "      <th>7</th>\n",
              "      <td>41740</td>\n",
              "      <td>San Diego, CA</td>\n",
              "      <td>99890</td>\n",
              "    </tr>\n",
              "    <tr>\n",
              "      <th>8</th>\n",
              "      <td>19740</td>\n",
              "      <td>Denver, CO</td>\n",
              "      <td>98460</td>\n",
              "    </tr>\n",
              "    <tr>\n",
              "      <th>9</th>\n",
              "      <td>26620</td>\n",
              "      <td>Huntsville, AL</td>\n",
              "      <td>97340</td>\n",
              "    </tr>\n",
              "    <tr>\n",
              "      <th>10</th>\n",
              "      <td>17820</td>\n",
              "      <td>Colorado Springs, CO</td>\n",
              "      <td>95690</td>\n",
              "    </tr>\n",
              "    <tr>\n",
              "      <th>11</th>\n",
              "      <td>26420</td>\n",
              "      <td>Houston, TX</td>\n",
              "      <td>95520</td>\n",
              "    </tr>\n",
              "    <tr>\n",
              "      <th>12</th>\n",
              "      <td>45940</td>\n",
              "      <td>Trenton, NJ</td>\n",
              "      <td>94190</td>\n",
              "    </tr>\n",
              "    <tr>\n",
              "      <th>13</th>\n",
              "      <td>19100</td>\n",
              "      <td>Dallas, TX</td>\n",
              "      <td>93820</td>\n",
              "    </tr>\n",
              "    <tr>\n",
              "      <th>14</th>\n",
              "      <td>18140</td>\n",
              "      <td>Columbus, OH</td>\n",
              "      <td>92440</td>\n",
              "    </tr>\n",
              "    <tr>\n",
              "      <th>15</th>\n",
              "      <td>12420</td>\n",
              "      <td>Austin, TX</td>\n",
              "      <td>91970</td>\n",
              "    </tr>\n",
              "    <tr>\n",
              "      <th>16</th>\n",
              "      <td>37980</td>\n",
              "      <td>Philadelphia, PA</td>\n",
              "      <td>91820</td>\n",
              "    </tr>\n",
              "    <tr>\n",
              "      <th>17</th>\n",
              "      <td>20500</td>\n",
              "      <td>Durham, NC</td>\n",
              "      <td>91740</td>\n",
              "    </tr>\n",
              "    <tr>\n",
              "      <th>18</th>\n",
              "      <td>39580</td>\n",
              "      <td>Raleigh, NC</td>\n",
              "      <td>91680</td>\n",
              "    </tr>\n",
              "    <tr>\n",
              "      <th>19</th>\n",
              "      <td>12060</td>\n",
              "      <td>Atlanta, GA</td>\n",
              "      <td>91220</td>\n",
              "    </tr>\n",
              "  </tbody>\n",
              "</table>\n",
              "</div>"
            ],
            "text/plain": [
              "     Rank            Metro Area  Average Tech Salary\n",
              "0   41940          San Jose, CA               127040\n",
              "1   41860     San Francisco, CA               120730\n",
              "2   42660           Seattle, WA               113750\n",
              "3   47900        Washington, DC               107760\n",
              "4   35620          New York, NY               103960\n",
              "5   12580         Baltimore, MD               101510\n",
              "6   14500           Boulder, CO               101220\n",
              "7   41740         San Diego, CA                99890\n",
              "8   19740            Denver, CO                98460\n",
              "9   26620        Huntsville, AL                97340\n",
              "10  17820  Colorado Springs, CO                95690\n",
              "11  26420           Houston, TX                95520\n",
              "12  45940           Trenton, NJ                94190\n",
              "13  19100            Dallas, TX                93820\n",
              "14  18140          Columbus, OH                92440\n",
              "15  12420            Austin, TX                91970\n",
              "16  37980      Philadelphia, PA                91820\n",
              "17  20500            Durham, NC                91740\n",
              "18  39580           Raleigh, NC                91680\n",
              "19  12060           Atlanta, GA                91220"
            ]
          },
          "metadata": {
            "tags": []
          },
          "execution_count": 192
        }
      ]
    },
    {
      "cell_type": "code",
      "metadata": {
        "id": "mk-hsWA5IUyM",
        "colab_type": "code",
        "outputId": "9ba38729-7f61-4293-c4be-e8924439fc55",
        "colab": {
          "base_uri": "https://localhost:8080/",
          "height": 97
        }
      },
      "source": [
        "!pip install plotly==4.1.0"
      ],
      "execution_count": 193,
      "outputs": [
        {
          "output_type": "stream",
          "text": [
            "Requirement already satisfied: plotly==4.1.0 in /usr/local/lib/python3.6/dist-packages (4.1.0)\n",
            "Requirement already satisfied: retrying>=1.3.3 in /usr/local/lib/python3.6/dist-packages (from plotly==4.1.0) (1.3.3)\n",
            "Requirement already satisfied: six in /usr/local/lib/python3.6/dist-packages (from plotly==4.1.0) (1.12.0)\n"
          ],
          "name": "stdout"
        }
      ]
    },
    {
      "cell_type": "code",
      "metadata": {
        "id": "gaJ6s_FtCeOD",
        "colab_type": "code",
        "outputId": "645c3569-2b2f-4f33-f4c0-c2f5aa9667c2",
        "colab": {
          "base_uri": "https://localhost:8080/",
          "height": 542
        }
      },
      "source": [
        "import plotly.graph_objects as go\n",
        "import pandas as pd\n",
        "\n",
        "headerColor = 'grey'\n",
        "rowEvenColor = 'lightgrey'\n",
        "rowOddColor = 'white'\n",
        "\n",
        "fig = go.Figure(data=[go.Table(\n",
        "    #columnwidth = [5,20,10],\n",
        "    header=dict(values=list(salary_rank_df.columns),\n",
        "                line_color='black',\n",
        "                fill_color='grey',\n",
        "                align='left',\n",
        "                font=dict(color='white', size=12)\n",
        "    ),\n",
        "    cells=dict(values=[salary_rank_df['Rank'], salary_rank_df['Metro Area'], salary_rank_df['Average Tech Salary']],\n",
        "               line_color='black',\n",
        "               fill_color='white',\n",
        "               align='left'))\n",
        "])\n",
        "\n",
        "fig.show()"
      ],
      "execution_count": 194,
      "outputs": [
        {
          "output_type": "display_data",
          "data": {
            "text/html": [
              "<div>\n",
              "        \n",
              "        \n",
              "            <div id=\"1dd4299b-2ffe-4f6b-84f1-e76019cb5b48\" class=\"plotly-graph-div\" style=\"height:525px; width:100%;\"></div>\n",
              "            <script type=\"text/javascript\">\n",
              "                require([\"plotly\"], function(Plotly) {\n",
              "                    window.PLOTLYENV=window.PLOTLYENV || {};\n",
              "                    \n",
              "                if (document.getElementById(\"1dd4299b-2ffe-4f6b-84f1-e76019cb5b48\")) {\n",
              "                    Plotly.newPlot(\n",
              "                        '1dd4299b-2ffe-4f6b-84f1-e76019cb5b48',\n",
              "                        [{\"cells\": {\"align\": \"left\", \"fill\": {\"color\": \"white\"}, \"line\": {\"color\": \"black\"}, \"values\": [[41940, 41860, 42660, 47900, 35620, 12580, 14500, 41740, 19740, 26620, 17820, 26420, 45940, 19100, 18140, 12420, 37980, 20500, 39580, 12060], [\"San Jose, CA\", \"San Francisco, CA\", \"Seattle, WA\", \"Washington, DC\", \"New York, NY\", \"Baltimore, MD\", \"Boulder, CO\", \"San Diego, CA\", \"Denver, CO\", \"Huntsville, AL\", \"Colorado Springs, CO\", \"Houston, TX\", \"Trenton, NJ\", \"Dallas, TX\", \"Columbus, OH\", \"Austin, TX\", \"Philadelphia, PA\", \"Durham, NC\", \"Raleigh, NC\", \"Atlanta, GA\"], [127040, 120730, 113750, 107760, 103960, 101510, 101220, 99890, 98460, 97340, 95690, 95520, 94190, 93820, 92440, 91970, 91820, 91740, 91680, 91220]]}, \"header\": {\"align\": \"left\", \"fill\": {\"color\": \"grey\"}, \"font\": {\"color\": \"white\", \"size\": 12}, \"line\": {\"color\": \"black\"}, \"values\": [\"Rank\", \"Metro Area\", \"Average Tech Salary\"]}, \"type\": \"table\"}],\n",
              "                        {\"template\": {\"data\": {\"bar\": [{\"error_x\": {\"color\": \"#2a3f5f\"}, \"error_y\": {\"color\": \"#2a3f5f\"}, \"marker\": {\"line\": {\"color\": \"#E5ECF6\", \"width\": 0.5}}, \"type\": \"bar\"}], \"barpolar\": [{\"marker\": {\"line\": {\"color\": \"#E5ECF6\", \"width\": 0.5}}, \"type\": \"barpolar\"}], \"carpet\": [{\"aaxis\": {\"endlinecolor\": \"#2a3f5f\", \"gridcolor\": \"white\", \"linecolor\": \"white\", \"minorgridcolor\": \"white\", \"startlinecolor\": \"#2a3f5f\"}, \"baxis\": {\"endlinecolor\": \"#2a3f5f\", \"gridcolor\": \"white\", \"linecolor\": \"white\", \"minorgridcolor\": \"white\", \"startlinecolor\": \"#2a3f5f\"}, \"type\": \"carpet\"}], \"choropleth\": [{\"colorbar\": {\"outlinewidth\": 0, \"ticks\": \"\"}, \"type\": \"choropleth\"}], \"contour\": [{\"colorbar\": {\"outlinewidth\": 0, \"ticks\": \"\"}, \"colorscale\": [[0.0, \"#0d0887\"], [0.1111111111111111, \"#46039f\"], [0.2222222222222222, \"#7201a8\"], [0.3333333333333333, \"#9c179e\"], [0.4444444444444444, \"#bd3786\"], [0.5555555555555556, \"#d8576b\"], [0.6666666666666666, \"#ed7953\"], [0.7777777777777778, \"#fb9f3a\"], [0.8888888888888888, \"#fdca26\"], [1.0, \"#f0f921\"]], \"type\": \"contour\"}], \"contourcarpet\": [{\"colorbar\": {\"outlinewidth\": 0, \"ticks\": \"\"}, \"type\": \"contourcarpet\"}], \"heatmap\": [{\"colorbar\": {\"outlinewidth\": 0, \"ticks\": \"\"}, \"colorscale\": [[0.0, \"#0d0887\"], [0.1111111111111111, \"#46039f\"], [0.2222222222222222, \"#7201a8\"], [0.3333333333333333, \"#9c179e\"], [0.4444444444444444, \"#bd3786\"], [0.5555555555555556, \"#d8576b\"], [0.6666666666666666, \"#ed7953\"], [0.7777777777777778, \"#fb9f3a\"], [0.8888888888888888, \"#fdca26\"], [1.0, \"#f0f921\"]], \"type\": \"heatmap\"}], \"heatmapgl\": [{\"colorbar\": {\"outlinewidth\": 0, \"ticks\": \"\"}, \"colorscale\": [[0.0, \"#0d0887\"], [0.1111111111111111, \"#46039f\"], [0.2222222222222222, \"#7201a8\"], [0.3333333333333333, \"#9c179e\"], [0.4444444444444444, \"#bd3786\"], [0.5555555555555556, \"#d8576b\"], [0.6666666666666666, \"#ed7953\"], [0.7777777777777778, \"#fb9f3a\"], [0.8888888888888888, \"#fdca26\"], [1.0, \"#f0f921\"]], \"type\": \"heatmapgl\"}], \"histogram\": [{\"marker\": {\"colorbar\": {\"outlinewidth\": 0, \"ticks\": \"\"}}, \"type\": \"histogram\"}], \"histogram2d\": [{\"colorbar\": {\"outlinewidth\": 0, \"ticks\": \"\"}, \"colorscale\": [[0.0, \"#0d0887\"], [0.1111111111111111, \"#46039f\"], [0.2222222222222222, \"#7201a8\"], [0.3333333333333333, \"#9c179e\"], [0.4444444444444444, \"#bd3786\"], [0.5555555555555556, \"#d8576b\"], [0.6666666666666666, \"#ed7953\"], [0.7777777777777778, \"#fb9f3a\"], [0.8888888888888888, \"#fdca26\"], [1.0, \"#f0f921\"]], \"type\": \"histogram2d\"}], \"histogram2dcontour\": [{\"colorbar\": {\"outlinewidth\": 0, \"ticks\": \"\"}, \"colorscale\": [[0.0, \"#0d0887\"], [0.1111111111111111, \"#46039f\"], [0.2222222222222222, \"#7201a8\"], [0.3333333333333333, \"#9c179e\"], [0.4444444444444444, \"#bd3786\"], [0.5555555555555556, \"#d8576b\"], [0.6666666666666666, \"#ed7953\"], [0.7777777777777778, \"#fb9f3a\"], [0.8888888888888888, \"#fdca26\"], [1.0, \"#f0f921\"]], \"type\": \"histogram2dcontour\"}], \"mesh3d\": [{\"colorbar\": {\"outlinewidth\": 0, \"ticks\": \"\"}, \"type\": \"mesh3d\"}], \"parcoords\": [{\"line\": {\"colorbar\": {\"outlinewidth\": 0, \"ticks\": \"\"}}, \"type\": \"parcoords\"}], \"scatter\": [{\"marker\": {\"colorbar\": {\"outlinewidth\": 0, \"ticks\": \"\"}}, \"type\": \"scatter\"}], \"scatter3d\": [{\"line\": {\"colorbar\": {\"outlinewidth\": 0, \"ticks\": \"\"}}, \"marker\": {\"colorbar\": {\"outlinewidth\": 0, \"ticks\": \"\"}}, \"type\": \"scatter3d\"}], \"scattercarpet\": [{\"marker\": {\"colorbar\": {\"outlinewidth\": 0, \"ticks\": \"\"}}, \"type\": \"scattercarpet\"}], \"scattergeo\": [{\"marker\": {\"colorbar\": {\"outlinewidth\": 0, \"ticks\": \"\"}}, \"type\": \"scattergeo\"}], \"scattergl\": [{\"marker\": {\"colorbar\": {\"outlinewidth\": 0, \"ticks\": \"\"}}, \"type\": \"scattergl\"}], \"scattermapbox\": [{\"marker\": {\"colorbar\": {\"outlinewidth\": 0, \"ticks\": \"\"}}, \"type\": \"scattermapbox\"}], \"scatterpolar\": [{\"marker\": {\"colorbar\": {\"outlinewidth\": 0, \"ticks\": \"\"}}, \"type\": \"scatterpolar\"}], \"scatterpolargl\": [{\"marker\": {\"colorbar\": {\"outlinewidth\": 0, \"ticks\": \"\"}}, \"type\": \"scatterpolargl\"}], \"scatterternary\": [{\"marker\": {\"colorbar\": {\"outlinewidth\": 0, \"ticks\": \"\"}}, \"type\": \"scatterternary\"}], \"surface\": [{\"colorbar\": {\"outlinewidth\": 0, \"ticks\": \"\"}, \"colorscale\": [[0.0, \"#0d0887\"], [0.1111111111111111, \"#46039f\"], [0.2222222222222222, \"#7201a8\"], [0.3333333333333333, \"#9c179e\"], [0.4444444444444444, \"#bd3786\"], [0.5555555555555556, \"#d8576b\"], [0.6666666666666666, \"#ed7953\"], [0.7777777777777778, \"#fb9f3a\"], [0.8888888888888888, \"#fdca26\"], [1.0, \"#f0f921\"]], \"type\": \"surface\"}], \"table\": [{\"cells\": {\"fill\": {\"color\": \"#EBF0F8\"}, \"line\": {\"color\": \"white\"}}, \"header\": {\"fill\": {\"color\": \"#C8D4E3\"}, \"line\": {\"color\": \"white\"}}, \"type\": \"table\"}]}, \"layout\": {\"annotationdefaults\": {\"arrowcolor\": \"#2a3f5f\", \"arrowhead\": 0, \"arrowwidth\": 1}, \"colorscale\": {\"diverging\": [[0, \"#8e0152\"], [0.1, \"#c51b7d\"], [0.2, \"#de77ae\"], [0.3, \"#f1b6da\"], [0.4, \"#fde0ef\"], [0.5, \"#f7f7f7\"], [0.6, \"#e6f5d0\"], [0.7, \"#b8e186\"], [0.8, \"#7fbc41\"], [0.9, \"#4d9221\"], [1, \"#276419\"]], \"sequential\": [[0.0, \"#0d0887\"], [0.1111111111111111, \"#46039f\"], [0.2222222222222222, \"#7201a8\"], [0.3333333333333333, \"#9c179e\"], [0.4444444444444444, \"#bd3786\"], [0.5555555555555556, \"#d8576b\"], [0.6666666666666666, \"#ed7953\"], [0.7777777777777778, \"#fb9f3a\"], [0.8888888888888888, \"#fdca26\"], [1.0, \"#f0f921\"]], \"sequentialminus\": [[0.0, \"#0d0887\"], [0.1111111111111111, \"#46039f\"], [0.2222222222222222, \"#7201a8\"], [0.3333333333333333, \"#9c179e\"], [0.4444444444444444, \"#bd3786\"], [0.5555555555555556, \"#d8576b\"], [0.6666666666666666, \"#ed7953\"], [0.7777777777777778, \"#fb9f3a\"], [0.8888888888888888, \"#fdca26\"], [1.0, \"#f0f921\"]]}, \"colorway\": [\"#636efa\", \"#EF553B\", \"#00cc96\", \"#ab63fa\", \"#FFA15A\", \"#19d3f3\", \"#FF6692\", \"#B6E880\", \"#FF97FF\", \"#FECB52\"], \"font\": {\"color\": \"#2a3f5f\"}, \"geo\": {\"bgcolor\": \"white\", \"lakecolor\": \"white\", \"landcolor\": \"#E5ECF6\", \"showlakes\": true, \"showland\": true, \"subunitcolor\": \"white\"}, \"hoverlabel\": {\"align\": \"left\"}, \"hovermode\": \"closest\", \"mapbox\": {\"style\": \"light\"}, \"paper_bgcolor\": \"white\", \"plot_bgcolor\": \"#E5ECF6\", \"polar\": {\"angularaxis\": {\"gridcolor\": \"white\", \"linecolor\": \"white\", \"ticks\": \"\"}, \"bgcolor\": \"#E5ECF6\", \"radialaxis\": {\"gridcolor\": \"white\", \"linecolor\": \"white\", \"ticks\": \"\"}}, \"scene\": {\"xaxis\": {\"backgroundcolor\": \"#E5ECF6\", \"gridcolor\": \"white\", \"gridwidth\": 2, \"linecolor\": \"white\", \"showbackground\": true, \"ticks\": \"\", \"zerolinecolor\": \"white\"}, \"yaxis\": {\"backgroundcolor\": \"#E5ECF6\", \"gridcolor\": \"white\", \"gridwidth\": 2, \"linecolor\": \"white\", \"showbackground\": true, \"ticks\": \"\", \"zerolinecolor\": \"white\"}, \"zaxis\": {\"backgroundcolor\": \"#E5ECF6\", \"gridcolor\": \"white\", \"gridwidth\": 2, \"linecolor\": \"white\", \"showbackground\": true, \"ticks\": \"\", \"zerolinecolor\": \"white\"}}, \"shapedefaults\": {\"line\": {\"color\": \"#2a3f5f\"}}, \"ternary\": {\"aaxis\": {\"gridcolor\": \"white\", \"linecolor\": \"white\", \"ticks\": \"\"}, \"baxis\": {\"gridcolor\": \"white\", \"linecolor\": \"white\", \"ticks\": \"\"}, \"bgcolor\": \"#E5ECF6\", \"caxis\": {\"gridcolor\": \"white\", \"linecolor\": \"white\", \"ticks\": \"\"}}, \"title\": {\"x\": 0.05}, \"xaxis\": {\"automargin\": true, \"gridcolor\": \"white\", \"linecolor\": \"white\", \"ticks\": \"\", \"zerolinecolor\": \"white\", \"zerolinewidth\": 2}, \"yaxis\": {\"automargin\": true, \"gridcolor\": \"white\", \"linecolor\": \"white\", \"ticks\": \"\", \"zerolinecolor\": \"white\", \"zerolinewidth\": 2}}}},\n",
              "                        {\"responsive\": true}\n",
              "                    ).then(function(){\n",
              "                            \n",
              "var gd = document.getElementById('1dd4299b-2ffe-4f6b-84f1-e76019cb5b48');\n",
              "var x = new MutationObserver(function (mutations, observer) {{\n",
              "        var display = window.getComputedStyle(gd).display;\n",
              "        if (!display || display === 'none') {{\n",
              "            console.log([gd, 'removed!']);\n",
              "            Plotly.purge(gd);\n",
              "            observer.disconnect();\n",
              "        }}\n",
              "}});\n",
              "\n",
              "// Listen for the removal of the full notebook cells\n",
              "var notebookContainer = gd.closest('#notebook-container');\n",
              "if (notebookContainer) {{\n",
              "    x.observe(notebookContainer, {childList: true});\n",
              "}}\n",
              "\n",
              "// Listen for the clearing of the current output cell\n",
              "var outputEl = gd.closest('.output');\n",
              "if (outputEl) {{\n",
              "    x.observe(outputEl, {childList: true});\n",
              "}}\n",
              "\n",
              "                        })\n",
              "                };\n",
              "                });\n",
              "            </script>\n",
              "        </div>"
            ],
            "application/vnd.plotly.v1+json": {
              "data": [
                {
                  "header": {
                    "align": "left",
                    "font": {
                      "color": "white",
                      "size": 12
                    },
                    "values": [
                      "Rank",
                      "Metro Area",
                      "Average Tech Salary"
                    ],
                    "line": {
                      "color": "black"
                    },
                    "fill": {
                      "color": "grey"
                    }
                  },
                  "cells": {
                    "align": "left",
                    "values": [
                      [
                        41940,
                        41860,
                        42660,
                        47900,
                        35620,
                        12580,
                        14500,
                        41740,
                        19740,
                        26620,
                        17820,
                        26420,
                        45940,
                        19100,
                        18140,
                        12420,
                        37980,
                        20500,
                        39580,
                        12060
                      ],
                      [
                        "San Jose, CA",
                        "San Francisco, CA",
                        "Seattle, WA",
                        "Washington, DC",
                        "New York, NY",
                        "Baltimore, MD",
                        "Boulder, CO",
                        "San Diego, CA",
                        "Denver, CO",
                        "Huntsville, AL",
                        "Colorado Springs, CO",
                        "Houston, TX",
                        "Trenton, NJ",
                        "Dallas, TX",
                        "Columbus, OH",
                        "Austin, TX",
                        "Philadelphia, PA",
                        "Durham, NC",
                        "Raleigh, NC",
                        "Atlanta, GA"
                      ],
                      [
                        127040,
                        120730,
                        113750,
                        107760,
                        103960,
                        101510,
                        101220,
                        99890,
                        98460,
                        97340,
                        95690,
                        95520,
                        94190,
                        93820,
                        92440,
                        91970,
                        91820,
                        91740,
                        91680,
                        91220
                      ]
                    ],
                    "line": {
                      "color": "black"
                    },
                    "fill": {
                      "color": "white"
                    }
                  },
                  "type": "table"
                }
              ],
              "config": {
                "plotlyServerURL": "https://plot.ly"
              },
              "layout": {
                "template": {
                  "layout": {
                    "shapedefaults": {
                      "line": {
                        "color": "#2a3f5f"
                      }
                    },
                    "polar": {
                      "radialaxis": {
                        "ticks": "",
                        "gridcolor": "white",
                        "linecolor": "white"
                      },
                      "bgcolor": "#E5ECF6",
                      "angularaxis": {
                        "ticks": "",
                        "gridcolor": "white",
                        "linecolor": "white"
                      }
                    },
                    "colorway": [
                      "#636efa",
                      "#EF553B",
                      "#00cc96",
                      "#ab63fa",
                      "#FFA15A",
                      "#19d3f3",
                      "#FF6692",
                      "#B6E880",
                      "#FF97FF",
                      "#FECB52"
                    ],
                    "xaxis": {
                      "automargin": true,
                      "zerolinewidth": 2,
                      "ticks": "",
                      "zerolinecolor": "white",
                      "gridcolor": "white",
                      "linecolor": "white"
                    },
                    "colorscale": {
                      "diverging": [
                        [
                          0,
                          "#8e0152"
                        ],
                        [
                          0.1,
                          "#c51b7d"
                        ],
                        [
                          0.2,
                          "#de77ae"
                        ],
                        [
                          0.3,
                          "#f1b6da"
                        ],
                        [
                          0.4,
                          "#fde0ef"
                        ],
                        [
                          0.5,
                          "#f7f7f7"
                        ],
                        [
                          0.6,
                          "#e6f5d0"
                        ],
                        [
                          0.7,
                          "#b8e186"
                        ],
                        [
                          0.8,
                          "#7fbc41"
                        ],
                        [
                          0.9,
                          "#4d9221"
                        ],
                        [
                          1,
                          "#276419"
                        ]
                      ],
                      "sequential": [
                        [
                          0,
                          "#0d0887"
                        ],
                        [
                          0.1111111111111111,
                          "#46039f"
                        ],
                        [
                          0.2222222222222222,
                          "#7201a8"
                        ],
                        [
                          0.3333333333333333,
                          "#9c179e"
                        ],
                        [
                          0.4444444444444444,
                          "#bd3786"
                        ],
                        [
                          0.5555555555555556,
                          "#d8576b"
                        ],
                        [
                          0.6666666666666666,
                          "#ed7953"
                        ],
                        [
                          0.7777777777777778,
                          "#fb9f3a"
                        ],
                        [
                          0.8888888888888888,
                          "#fdca26"
                        ],
                        [
                          1,
                          "#f0f921"
                        ]
                      ],
                      "sequentialminus": [
                        [
                          0,
                          "#0d0887"
                        ],
                        [
                          0.1111111111111111,
                          "#46039f"
                        ],
                        [
                          0.2222222222222222,
                          "#7201a8"
                        ],
                        [
                          0.3333333333333333,
                          "#9c179e"
                        ],
                        [
                          0.4444444444444444,
                          "#bd3786"
                        ],
                        [
                          0.5555555555555556,
                          "#d8576b"
                        ],
                        [
                          0.6666666666666666,
                          "#ed7953"
                        ],
                        [
                          0.7777777777777778,
                          "#fb9f3a"
                        ],
                        [
                          0.8888888888888888,
                          "#fdca26"
                        ],
                        [
                          1,
                          "#f0f921"
                        ]
                      ]
                    },
                    "paper_bgcolor": "white",
                    "plot_bgcolor": "#E5ECF6",
                    "title": {
                      "x": 0.05
                    },
                    "scene": {
                      "zaxis": {
                        "backgroundcolor": "#E5ECF6",
                        "ticks": "",
                        "gridwidth": 2,
                        "showbackground": true,
                        "zerolinecolor": "white",
                        "gridcolor": "white",
                        "linecolor": "white"
                      },
                      "xaxis": {
                        "backgroundcolor": "#E5ECF6",
                        "ticks": "",
                        "gridwidth": 2,
                        "showbackground": true,
                        "zerolinecolor": "white",
                        "gridcolor": "white",
                        "linecolor": "white"
                      },
                      "yaxis": {
                        "backgroundcolor": "#E5ECF6",
                        "ticks": "",
                        "gridwidth": 2,
                        "showbackground": true,
                        "zerolinecolor": "white",
                        "gridcolor": "white",
                        "linecolor": "white"
                      }
                    },
                    "yaxis": {
                      "automargin": true,
                      "zerolinewidth": 2,
                      "ticks": "",
                      "zerolinecolor": "white",
                      "gridcolor": "white",
                      "linecolor": "white"
                    },
                    "hoverlabel": {
                      "align": "left"
                    },
                    "ternary": {
                      "bgcolor": "#E5ECF6",
                      "baxis": {
                        "ticks": "",
                        "gridcolor": "white",
                        "linecolor": "white"
                      },
                      "caxis": {
                        "ticks": "",
                        "gridcolor": "white",
                        "linecolor": "white"
                      },
                      "aaxis": {
                        "ticks": "",
                        "gridcolor": "white",
                        "linecolor": "white"
                      }
                    },
                    "mapbox": {
                      "style": "light"
                    },
                    "hovermode": "closest",
                    "font": {
                      "color": "#2a3f5f"
                    },
                    "geo": {
                      "showland": true,
                      "landcolor": "#E5ECF6",
                      "showlakes": true,
                      "bgcolor": "white",
                      "subunitcolor": "white",
                      "lakecolor": "white"
                    },
                    "annotationdefaults": {
                      "arrowwidth": 1,
                      "arrowhead": 0,
                      "arrowcolor": "#2a3f5f"
                    }
                  },
                  "data": {
                    "mesh3d": [
                      {
                        "colorbar": {
                          "outlinewidth": 0,
                          "ticks": ""
                        },
                        "type": "mesh3d"
                      }
                    ],
                    "scattercarpet": [
                      {
                        "marker": {
                          "colorbar": {
                            "outlinewidth": 0,
                            "ticks": ""
                          }
                        },
                        "type": "scattercarpet"
                      }
                    ],
                    "scatterternary": [
                      {
                        "marker": {
                          "colorbar": {
                            "outlinewidth": 0,
                            "ticks": ""
                          }
                        },
                        "type": "scatterternary"
                      }
                    ],
                    "surface": [
                      {
                        "colorbar": {
                          "outlinewidth": 0,
                          "ticks": ""
                        },
                        "type": "surface",
                        "colorscale": [
                          [
                            0,
                            "#0d0887"
                          ],
                          [
                            0.1111111111111111,
                            "#46039f"
                          ],
                          [
                            0.2222222222222222,
                            "#7201a8"
                          ],
                          [
                            0.3333333333333333,
                            "#9c179e"
                          ],
                          [
                            0.4444444444444444,
                            "#bd3786"
                          ],
                          [
                            0.5555555555555556,
                            "#d8576b"
                          ],
                          [
                            0.6666666666666666,
                            "#ed7953"
                          ],
                          [
                            0.7777777777777778,
                            "#fb9f3a"
                          ],
                          [
                            0.8888888888888888,
                            "#fdca26"
                          ],
                          [
                            1,
                            "#f0f921"
                          ]
                        ]
                      }
                    ],
                    "table": [
                      {
                        "header": {
                          "line": {
                            "color": "white"
                          },
                          "fill": {
                            "color": "#C8D4E3"
                          }
                        },
                        "cells": {
                          "line": {
                            "color": "white"
                          },
                          "fill": {
                            "color": "#EBF0F8"
                          }
                        },
                        "type": "table"
                      }
                    ],
                    "scatterpolargl": [
                      {
                        "marker": {
                          "colorbar": {
                            "outlinewidth": 0,
                            "ticks": ""
                          }
                        },
                        "type": "scatterpolargl"
                      }
                    ],
                    "contour": [
                      {
                        "colorbar": {
                          "outlinewidth": 0,
                          "ticks": ""
                        },
                        "type": "contour",
                        "colorscale": [
                          [
                            0,
                            "#0d0887"
                          ],
                          [
                            0.1111111111111111,
                            "#46039f"
                          ],
                          [
                            0.2222222222222222,
                            "#7201a8"
                          ],
                          [
                            0.3333333333333333,
                            "#9c179e"
                          ],
                          [
                            0.4444444444444444,
                            "#bd3786"
                          ],
                          [
                            0.5555555555555556,
                            "#d8576b"
                          ],
                          [
                            0.6666666666666666,
                            "#ed7953"
                          ],
                          [
                            0.7777777777777778,
                            "#fb9f3a"
                          ],
                          [
                            0.8888888888888888,
                            "#fdca26"
                          ],
                          [
                            1,
                            "#f0f921"
                          ]
                        ]
                      }
                    ],
                    "carpet": [
                      {
                        "type": "carpet",
                        "baxis": {
                          "minorgridcolor": "white",
                          "gridcolor": "white",
                          "linecolor": "white",
                          "endlinecolor": "#2a3f5f",
                          "startlinecolor": "#2a3f5f"
                        },
                        "aaxis": {
                          "minorgridcolor": "white",
                          "gridcolor": "white",
                          "linecolor": "white",
                          "endlinecolor": "#2a3f5f",
                          "startlinecolor": "#2a3f5f"
                        }
                      }
                    ],
                    "contourcarpet": [
                      {
                        "colorbar": {
                          "outlinewidth": 0,
                          "ticks": ""
                        },
                        "type": "contourcarpet"
                      }
                    ],
                    "heatmap": [
                      {
                        "colorbar": {
                          "outlinewidth": 0,
                          "ticks": ""
                        },
                        "type": "heatmap",
                        "colorscale": [
                          [
                            0,
                            "#0d0887"
                          ],
                          [
                            0.1111111111111111,
                            "#46039f"
                          ],
                          [
                            0.2222222222222222,
                            "#7201a8"
                          ],
                          [
                            0.3333333333333333,
                            "#9c179e"
                          ],
                          [
                            0.4444444444444444,
                            "#bd3786"
                          ],
                          [
                            0.5555555555555556,
                            "#d8576b"
                          ],
                          [
                            0.6666666666666666,
                            "#ed7953"
                          ],
                          [
                            0.7777777777777778,
                            "#fb9f3a"
                          ],
                          [
                            0.8888888888888888,
                            "#fdca26"
                          ],
                          [
                            1,
                            "#f0f921"
                          ]
                        ]
                      }
                    ],
                    "scattermapbox": [
                      {
                        "marker": {
                          "colorbar": {
                            "outlinewidth": 0,
                            "ticks": ""
                          }
                        },
                        "type": "scattermapbox"
                      }
                    ],
                    "scatter3d": [
                      {
                        "marker": {
                          "colorbar": {
                            "outlinewidth": 0,
                            "ticks": ""
                          }
                        },
                        "line": {
                          "colorbar": {
                            "outlinewidth": 0,
                            "ticks": ""
                          }
                        },
                        "type": "scatter3d"
                      }
                    ],
                    "scattergl": [
                      {
                        "marker": {
                          "colorbar": {
                            "outlinewidth": 0,
                            "ticks": ""
                          }
                        },
                        "type": "scattergl"
                      }
                    ],
                    "histogram": [
                      {
                        "marker": {
                          "colorbar": {
                            "outlinewidth": 0,
                            "ticks": ""
                          }
                        },
                        "type": "histogram"
                      }
                    ],
                    "heatmapgl": [
                      {
                        "colorbar": {
                          "outlinewidth": 0,
                          "ticks": ""
                        },
                        "type": "heatmapgl",
                        "colorscale": [
                          [
                            0,
                            "#0d0887"
                          ],
                          [
                            0.1111111111111111,
                            "#46039f"
                          ],
                          [
                            0.2222222222222222,
                            "#7201a8"
                          ],
                          [
                            0.3333333333333333,
                            "#9c179e"
                          ],
                          [
                            0.4444444444444444,
                            "#bd3786"
                          ],
                          [
                            0.5555555555555556,
                            "#d8576b"
                          ],
                          [
                            0.6666666666666666,
                            "#ed7953"
                          ],
                          [
                            0.7777777777777778,
                            "#fb9f3a"
                          ],
                          [
                            0.8888888888888888,
                            "#fdca26"
                          ],
                          [
                            1,
                            "#f0f921"
                          ]
                        ]
                      }
                    ],
                    "scatterpolar": [
                      {
                        "marker": {
                          "colorbar": {
                            "outlinewidth": 0,
                            "ticks": ""
                          }
                        },
                        "type": "scatterpolar"
                      }
                    ],
                    "histogram2d": [
                      {
                        "colorbar": {
                          "outlinewidth": 0,
                          "ticks": ""
                        },
                        "type": "histogram2d",
                        "colorscale": [
                          [
                            0,
                            "#0d0887"
                          ],
                          [
                            0.1111111111111111,
                            "#46039f"
                          ],
                          [
                            0.2222222222222222,
                            "#7201a8"
                          ],
                          [
                            0.3333333333333333,
                            "#9c179e"
                          ],
                          [
                            0.4444444444444444,
                            "#bd3786"
                          ],
                          [
                            0.5555555555555556,
                            "#d8576b"
                          ],
                          [
                            0.6666666666666666,
                            "#ed7953"
                          ],
                          [
                            0.7777777777777778,
                            "#fb9f3a"
                          ],
                          [
                            0.8888888888888888,
                            "#fdca26"
                          ],
                          [
                            1,
                            "#f0f921"
                          ]
                        ]
                      }
                    ],
                    "scattergeo": [
                      {
                        "marker": {
                          "colorbar": {
                            "outlinewidth": 0,
                            "ticks": ""
                          }
                        },
                        "type": "scattergeo"
                      }
                    ],
                    "bar": [
                      {
                        "marker": {
                          "line": {
                            "color": "#E5ECF6",
                            "width": 0.5
                          }
                        },
                        "type": "bar",
                        "error_x": {
                          "color": "#2a3f5f"
                        },
                        "error_y": {
                          "color": "#2a3f5f"
                        }
                      }
                    ],
                    "choropleth": [
                      {
                        "colorbar": {
                          "outlinewidth": 0,
                          "ticks": ""
                        },
                        "type": "choropleth"
                      }
                    ],
                    "parcoords": [
                      {
                        "line": {
                          "colorbar": {
                            "outlinewidth": 0,
                            "ticks": ""
                          }
                        },
                        "type": "parcoords"
                      }
                    ],
                    "barpolar": [
                      {
                        "marker": {
                          "line": {
                            "color": "#E5ECF6",
                            "width": 0.5
                          }
                        },
                        "type": "barpolar"
                      }
                    ],
                    "histogram2dcontour": [
                      {
                        "colorbar": {
                          "outlinewidth": 0,
                          "ticks": ""
                        },
                        "type": "histogram2dcontour",
                        "colorscale": [
                          [
                            0,
                            "#0d0887"
                          ],
                          [
                            0.1111111111111111,
                            "#46039f"
                          ],
                          [
                            0.2222222222222222,
                            "#7201a8"
                          ],
                          [
                            0.3333333333333333,
                            "#9c179e"
                          ],
                          [
                            0.4444444444444444,
                            "#bd3786"
                          ],
                          [
                            0.5555555555555556,
                            "#d8576b"
                          ],
                          [
                            0.6666666666666666,
                            "#ed7953"
                          ],
                          [
                            0.7777777777777778,
                            "#fb9f3a"
                          ],
                          [
                            0.8888888888888888,
                            "#fdca26"
                          ],
                          [
                            1,
                            "#f0f921"
                          ]
                        ]
                      }
                    ],
                    "scatter": [
                      {
                        "marker": {
                          "colorbar": {
                            "outlinewidth": 0,
                            "ticks": ""
                          }
                        },
                        "type": "scatter"
                      }
                    ]
                  }
                }
              }
            }
          },
          "metadata": {
            "tags": []
          }
        }
      ]
    }
  ]
}